{
  "nbformat": 4,
  "nbformat_minor": 0,
  "metadata": {
    "colab": {
      "provenance": [],
      "authorship_tag": "ABX9TyNRVwH4FWgQX1v9j+TNxrwP",
      "include_colab_link": true
    },
    "kernelspec": {
      "name": "python3",
      "display_name": "Python 3"
    },
    "language_info": {
      "name": "python"
    }
  },
  "cells": [
    {
      "cell_type": "markdown",
      "metadata": {
        "id": "view-in-github",
        "colab_type": "text"
      },
      "source": [
        "<a href=\"https://colab.research.google.com/github/keesterbrugge/rl_intro_sutton/blob/main/ch4.ipynb\" target=\"_parent\"><img src=\"https://colab.research.google.com/assets/colab-badge.svg\" alt=\"Open In Colab\"/></a>"
      ]
    },
    {
      "cell_type": "code",
      "execution_count": null,
      "metadata": {
        "id": "f4-F3KzkRT7s"
      },
      "outputs": [],
      "source": []
    },
    {
      "cell_type": "markdown",
      "source": [
        "Example 4.2: Jack’s Car Rental Jack manages two locations for a nationwide car\n",
        "rental company. Each day, some number of customers arrive at each location to rent cars.\n",
        "If Jack has a car available, he rents it out and is credited 10 by the national company.\n",
        "If he is out of cars at that location, then the business is lost. Cars become available for\n",
        "renting the day after they are returned. To help ensure that cars are available where\n",
        "they are needed, Jack can move them between the two locations overnight, at a cost of\n",
        "$2 per car moved. We assume that the number of cars requested and returned at each\n",
        "location are Poisson random variables, meaning that the probability that the number is n is \u0000n e\u0000\u0000, where \u0000 is the expected number. Suppose \u0000 is 3 and 4 for rental requests at n!\n",
        "the first and second locations and 3 and 2 for returns. To simplify the problem slightly, we assume that there can be no more than 20 cars at each location (any additional cars are returned to the nationwide company, and thus disappear from the problem) and a\n",
        "maximum of five cars can be moved from one location to the other in one night. We take the discount rate to be \u0000 = 0.9 and formulate this as a continuing finite MDP, where the time steps are days, the state is the number of cars at each location at the end of the day, and the actions are the net numbers of cars moved between the two locations overnight. Figure 4.2 shows the sequence of policies found by policy iteration starting from the policy that never moves any cars."
      ],
      "metadata": {
        "id": "aMwYBRpWXCzZ"
      }
    },
    {
      "cell_type": "code",
      "source": [
        "from scipy.stats import poisson\n",
        "import numpy as np\n",
        "import numba as nb\n",
        "# poisson([1,3,4,5]).pmf(k=np.array([4, 5]).T)\n",
        "# poisson.pmf(mu=np.array([3,4]),k=np.array([4, 5]), size=(2,2))"
      ],
      "metadata": {
        "id": "zFnE1FVvbhnN"
      },
      "execution_count": 118,
      "outputs": []
    },
    {
      "cell_type": "code",
      "source": [
        "\n",
        "\n",
        "\n",
        "\n",
        "def get_new_V(s, gamma = .9):\n",
        "  \"\"\"\n",
        "  state update consists of\n",
        "  - stochastic amount of new cars at each location (3 and 2)\n",
        "  - stochastic amount of car rental requests (3 and 4)\n",
        "  - deterministic change in amount of cars based on choice to move from 1 loc to another\n",
        "  \n",
        "  Reward signal:\n",
        "  - deterministically based on action (- 2 dollar per moved car)\n",
        "  - deterministic based on amount of rentals (10 per rented car)\n",
        "  \"\"\"\n",
        "\n",
        "  # don't have to loop over actions, cause policy is deterministc\n",
        "  # loop over all state transitions \n"
      ],
      "metadata": {
        "id": "tm3iISy8sJWD"
      },
      "execution_count": null,
      "outputs": []
    },
    {
      "cell_type": "code",
      "source": [],
      "metadata": {
        "colab": {
          "base_uri": "https://localhost:8080/"
        },
        "id": "LcKQmuBs9Ibr",
        "outputId": "afb5ae58-838e-42b3-b90b-0963a1a42bdb"
      },
      "execution_count": 29,
      "outputs": [
        {
          "output_type": "stream",
          "name": "stderr",
          "text": [
            "<ipython-input-29-fab789a404ec>:1: VisibleDeprecationWarning: Creating an ndarray from ragged nested sequences (which is a list-or-tuple of lists-or-tuples-or ndarrays with different lengths or shapes) is deprecated. If you meant to do this, you must specify 'dtype=object' when creating the ndarray.\n",
            "  np.array([(2,3), 2])\n"
          ]
        },
        {
          "output_type": "execute_result",
          "data": {
            "text/plain": [
              "array([(2, 3), 2], dtype=object)"
            ]
          },
          "metadata": {},
          "execution_count": 29
        }
      ]
    },
    {
      "cell_type": "code",
      "source": [
        "r(s_prime, pi(s), s) \n",
        "allowable_a = clip(a)\n",
        "morning_s = s + allowable_a\n",
        "a_allowed"
      ],
      "metadata": {
        "id": "CD7_MGraBYSU"
      },
      "execution_count": null,
      "outputs": []
    },
    {
      "cell_type": "code",
      "source": [
        "tuple(np.array([3,3]))"
      ],
      "metadata": {
        "colab": {
          "base_uri": "https://localhost:8080/"
        },
        "id": "in-aM8tOHF_5",
        "outputId": "09806d8b-533a-41a0-ba2e-3dd1aaa857a1"
      },
      "execution_count": 44,
      "outputs": [
        {
          "output_type": "execute_result",
          "data": {
            "text/plain": [
              "(3, 3)"
            ]
          },
          "metadata": {},
          "execution_count": 44
        }
      ]
    },
    {
      "cell_type": "code",
      "source": [
        "np.array((2,3))"
      ],
      "metadata": {
        "colab": {
          "base_uri": "https://localhost:8080/"
        },
        "id": "CpMNfDnyHWUy",
        "outputId": "0b487726-306f-4bae-fec6-2f0ac6eb321e"
      },
      "execution_count": 45,
      "outputs": [
        {
          "output_type": "execute_result",
          "data": {
            "text/plain": [
              "array([2, 3])"
            ]
          },
          "metadata": {},
          "execution_count": 45
        }
      ]
    },
    {
      "cell_type": "code",
      "source": [
        "s = (2,3)\n",
        "(s[0] + (-2, 3)"
      ],
      "metadata": {
        "colab": {
          "base_uri": "https://localhost:8080/"
        },
        "id": "_E9XkWkGG5fW",
        "outputId": "b78e1d80-62df-4537-af30-045a4060dc46"
      },
      "execution_count": 39,
      "outputs": [
        {
          "output_type": "execute_result",
          "data": {
            "text/plain": [
              "(2, 3, -2, 3)"
            ]
          },
          "metadata": {},
          "execution_count": 39
        }
      ]
    },
    {
      "cell_type": "code",
      "source": [
        "def get_r(s,a):\n",
        "  reward_action = - 2 * abs(a)\n",
        "  s_after_action = np.clip(np.array(s) + np.array([-a, a]) a_min=0, a_max=20)\n",
        "  mor"
      ],
      "metadata": {
        "id": "fYfgbjmGGYUr"
      },
      "execution_count": null,
      "outputs": []
    },
    {
      "cell_type": "code",
      "source": [
        "\n",
        "def trunc_poisson(mu, k, k_max):  \n",
        "    if k < k_max: \n",
        "      p = poisson.pmf(mu=3, k=k)\n",
        "    elif (k == k_max):\n",
        "      p = poisson.sf(mu=3, k = k-1)\n",
        "    else:\n",
        "      p = 0.0\n",
        "    return p\n",
        "\n",
        "def get_p_s_prime_1loc(cars_start, rental_req_lambda, car_returns_lambda):\n",
        "\n",
        "  max_cars = 20\n",
        "  p_s_prime_1loc = np.zeros(max_cars+1)\n",
        "\n",
        "  for cars_rented_out in np.arange(cars_start+1):\n",
        "    p_cars_rented_out = trunc_poisson(mu=rental_req_lambda, k=cars_rented_out, k_max=cars_start)\n",
        "\n",
        "    cars_after_renting_out = cars_start - cars_rented_out\n",
        "    max_new_cars = max_cars - cars_after_renting_out\n",
        "\n",
        "    for cars_arrived in np.arange(max_new_cars+1):\n",
        "\n",
        "      p_cars_arrived = trunc_poisson(mu=car_returns_lambda, k=cars_arrived, k_max=max_new_cars)\n",
        "      cars_end = cars_after_renting_out + cars_arrived\n",
        "      p_state_transition = p_cars_rented_out * p_cars_arrived\n",
        "      p_s_prime_1loc[cars_end] += p_state_transition\n",
        "\n",
        "  return p_s_prime_1loc"
      ],
      "metadata": {
        "id": "6HIL249QPADV"
      },
      "execution_count": 131,
      "outputs": []
    },
    {
      "cell_type": "code",
      "source": [
        "def get_prob_per_new_state(s, rental_request_lambdas, car_returns_lambdas):\n",
        "  return np.outer(*[get_p_s_prime_1loc(s[i], rental_request_lambdas[i], car_returns_lambdas[i]) for i in [0, 1]])\n",
        "\n",
        "get_prob_per_new_state((10,10), (3,4), (3,2)).sum()"
      ],
      "metadata": {
        "colab": {
          "base_uri": "https://localhost:8080/"
        },
        "id": "cNsuyhxNTU2-",
        "outputId": "403f8d1f-1385-469b-a1b0-3f536d6e5dc7"
      },
      "execution_count": 82,
      "outputs": [
        {
          "output_type": "execute_result",
          "data": {
            "text/plain": [
              "1.0000000000000004"
            ]
          },
          "metadata": {},
          "execution_count": 82
        }
      ]
    },
    {
      "cell_type": "code",
      "source": [
        "gamma = 0.9\n",
        "max_cars=20\n",
        "V = np.zeros((max_cars+1,max_cars+1))\n",
        "(gamma*V*p_s_prime).sum()"
      ],
      "metadata": {
        "colab": {
          "base_uri": "https://localhost:8080/"
        },
        "id": "oCGIl80EUJrb",
        "outputId": "f1ec063b-7553-4d9c-9477-5a9c49e292d2"
      },
      "execution_count": 73,
      "outputs": [
        {
          "output_type": "execute_result",
          "data": {
            "text/plain": [
              "0.0"
            ]
          },
          "metadata": {},
          "execution_count": 73
        }
      ]
    },
    {
      "cell_type": "code",
      "source": [
        "\n",
        "def get_expected_R(s, rental_request_lambdas):\n",
        "  expected_cars_rented_out = 0\n",
        "  for cars_start, rental_req_lambda in zip(s, rental_request_lambdas):\n",
        "    expected_cars_rented_out += np.array(\n",
        "        [cars_rented_out * trunc_poisson(mu=rental_req_lambda, \n",
        "                                        k=cars_rented_out, \n",
        "                                        k_max=cars_start) \n",
        "        for cars_rented_out in np.arange(cars_start+1)]).sum()\n",
        "\n",
        "    \n",
        "  return 10 * expected_cars_rented_out\n",
        "\n",
        "get_expected_R(s=(3,3), rental_request_lambdas=(4,3))"
      ],
      "metadata": {
        "colab": {
          "base_uri": "https://localhost:8080/"
        },
        "id": "xileeMqlVuc9",
        "outputId": "2c59270d-ad33-481b-8cee-b67b994cf41f"
      },
      "execution_count": 83,
      "outputs": [
        {
          "output_type": "execute_result",
          "data": {
            "text/plain": [
              "46.55749154067674"
            ]
          },
          "metadata": {},
          "execution_count": 83
        }
      ]
    },
    {
      "cell_type": "code",
      "source": [
        "def get_r(s,a):\n",
        "  np.array(for cars_start in s:\n"
      ],
      "metadata": {
        "id": "kVq86YxvVbP6"
      },
      "execution_count": null,
      "outputs": []
    },
    {
      "cell_type": "code",
      "source": [
        "\n",
        "def (s, policy, V)\n",
        "\n",
        "s = (10,10)\n",
        "action = policy[s]\n",
        "reward_action = - 2 * abs(a)\n",
        "s_after_action = np.clip(np.array(s) + np.array([-a, a]) a_min=0, a_max=20)\n",
        "\n",
        "cars_end_of_day = 7\n",
        "action = -3\n",
        "cars_start = cars_end_of_day + action\n",
        "\n",
        "max_cars = 20\n",
        "\n",
        "# P_S_prime = 3\n",
        "\n",
        "# p_cars_rented_out = np.zeros(shape=20)\n",
        "# p_cars_arrived = np.zeros(shape=20)\n",
        "\n",
        "\n",
        "p_cars_rented_out[cars_start] = poisson.sf(mu=3, k = cars_start-1)\n",
        "weighted_state_value_new_state = 0\n",
        "\n",
        "\n",
        "    \n",
        "  \n",
        "for loc, rental_req_lambda, car_returns_lambda in zip([0,1], [3,4], [3,2]):\n",
        "state_value = abs(action) * -2\n",
        "\n",
        "for cars_rented_out in np.arange(cars_start+1):\n",
        "  p_cars_rented_out = trunc_poisson(mu=3, k=cars_rented_out, k_max=cars_start)\n",
        "\n",
        "  cars_after_renting_out = cars_start - cars_rented_out\n",
        "  max_new_cars = max_cars - cars_after_renting_out\n",
        "\n",
        "  for cars_arrived in np.arange(max_new_cars):\n",
        "\n",
        "    p_cars_arrived = trunc_poisson(mu=3, k=cars_arrived, k_max=max_new_cars)\n",
        "\n",
        "    # p_cars_arrived = poisson.pmf(mu=3, k=cars_arrived)\n",
        "    # if (cars_arrived == max_new_cars):\n",
        "    #   p_cars_arrived = poisson.sf(mu=3, k = cars_start-1)\n",
        "\n",
        "      cars_end = cars_after_renting_out + cars_arrived\n",
        "\n",
        "      p_state_transition = p_cars_rented_out * p_cars_arrived\n",
        "      \n",
        "      state_value += p_state_transition * (cars_rented_out * 10 + V[]\n",
        "      \n",
        "\n",
        "p_cars_rented_out\n",
        "\n",
        "\n",
        "\n"
      ],
      "metadata": {
        "colab": {
          "base_uri": "https://localhost:8080/"
        },
        "id": "_zdxg6BmwEDY",
        "outputId": "6f04b65b-e48b-48f5-d292-316e70a9eb56"
      },
      "execution_count": 26,
      "outputs": [
        {
          "output_type": "execute_result",
          "data": {
            "text/plain": [
              "array([0.04978707, 0.14936121, 0.22404181, 0.22404181, 0.35276811,\n",
              "       0.        , 0.        , 0.        , 0.        , 0.        ,\n",
              "       0.        , 0.        , 0.        , 0.        , 0.        ,\n",
              "       0.        , 0.        , 0.        , 0.        , 0.        ])"
            ]
          },
          "metadata": {},
          "execution_count": 26
        }
      ]
    },
    {
      "cell_type": "code",
      "source": [
        "p_state_1loc_after_rental = 5 + trunc_poisson(mu, k, k_max):  \n"
      ],
      "metadata": {
        "colab": {
          "base_uri": "https://localhost:8080/"
        },
        "id": "XiN3tICLEsov",
        "outputId": "e07149c5-702f-4b08-b127-b1b2f543855e"
      },
      "execution_count": 38,
      "outputs": [
        {
          "output_type": "execute_result",
          "data": {
            "text/plain": [
              "8"
            ]
          },
          "metadata": {},
          "execution_count": 38
        }
      ]
    },
    {
      "cell_type": "code",
      "source": [
        "\n",
        "\n",
        "state_rental_req_lambda, car_returns_lambda, cars_start = 4, 4, 3\n",
        "get_p_s_prime_1loc(4, 3, 3)\n",
        "# trunc_poisson(mu=state_rental_req_lambda, k=cars_rented_out, k_max=cars_start)\n",
        "\n",
        "\n",
        "\n",
        "\n",
        "\n",
        "\n"
      ],
      "metadata": {
        "colab": {
          "base_uri": "https://localhost:8080/"
        },
        "id": "_7NoQ7FqPYHX",
        "outputId": "2cdf3f7a-be10-49ec-833e-40318c3c504e"
      },
      "execution_count": 63,
      "outputs": [
        {
          "output_type": "execute_result",
          "data": {
            "text/plain": [
              "array([1.75632901e-02, 6.38442550e-02, 1.23652345e-01, 1.70128948e-01,\n",
              "       1.84453089e-01, 1.64305854e-01, 1.22634048e-01, 7.77544078e-02,\n",
              "       4.24161839e-02, 2.01566182e-02, 8.44243938e-03, 3.15013070e-03,\n",
              "       1.05719694e-03, 3.21829750e-04, 8.95314730e-05, 2.29114072e-05,\n",
              "       5.42455129e-06, 1.19434804e-06, 2.45653449e-07, 4.73910054e-08,\n",
              "       1.03656463e-08])"
            ]
          },
          "metadata": {},
          "execution_count": 63
        }
      ]
    },
    {
      "cell_type": "code",
      "source": [
        "def get_s_morning_start(s, action):\n",
        "  return(tuple(np.clip(np.array(s) + np.array([-action, action]), a_min=0, a_max=20).astype('int'))\n",
        ")"
      ],
      "metadata": {
        "id": "9YkscC6xfqVX"
      },
      "execution_count": 138,
      "outputs": []
    },
    {
      "cell_type": "code",
      "source": [
        "%%time\n",
        "\n",
        "# 1 init\n",
        "V = np.random.uniform(size=(21,21))\n",
        "A = np.arange(-5,6)\n",
        "policy=np.zeros_like(V)\n",
        "print(f\"{V[:5,:5]=} \\n\\n {policy[:5,:5]=}\")\n",
        "\n",
        "\n",
        "\n",
        "rental_request_lambdas=(3,4)\n",
        "car_return_lambdas = (3,2)\n",
        "gamma = 0.9\n",
        "\n",
        "# 2 \n",
        "delta_theshold = 3\n",
        "\n",
        "delta = delta_theshold + 1\n",
        "\n",
        "# while delta >= delta_theshold:\n",
        "for _ in range(5):\n",
        "  delta = 0\n",
        "  # for s in [(19,1)]:\n",
        "  for s in np.random.permutation(list(np.ndindex(V.shape))):\n",
        "    s = tuple(s)\n",
        "    v = V[s]\n",
        "    # expected_R = get_expected_R(s, rental_request_lambdas)\n",
        "    action = policy[s]\n",
        "    s_after_action = get_s_morning_start(s, action)\n",
        "    actual_action = s_after_action[1] - s[1]\n",
        "    action_R = - 2 * abs(actual_action)\n",
        "\n",
        "    # s_after_action = tuple(np.clip(np.array(s) + np.array([-action, action]), a_min=0, a_max=20).astype('int'))\n",
        "    # print(f\"{s_after_action=}\")\n",
        "\n",
        "    expected_R = get_expected_R(s_after_action, rental_request_lambdas)\n",
        "    P_new_state = get_prob_per_new_state(s_after_action, \n",
        "                                         rental_request_lambdas, \n",
        "                                         car_return_lambdas)\n",
        "    # print(f\"sanity: {P_new_state.sum()=}\")\n",
        "    expected_V_new_state = (V*P_new_state).sum()\n",
        "    V[s] =  expected_R + action_R + gamma * expected_V_new_state\n",
        "\n",
        "    delta = max(delta, abs(v-V[s]))\n",
        "\n",
        "  print(f\"sanity: {delta=}\")\n",
        "\n",
        "\n",
        "print(f\"{V[:8,:8]=} \\n\\n {policy[:8,:8]=}\")\n",
        "\n",
        "# 3\n",
        "# while delta >= delta_theshold:\n",
        "for _ in range(5):\n",
        "  policy_stable = True\n",
        "  for s in np.random.permutation(list(np.ndindex(V.shape))):\n",
        "    s = tuple(s)\n",
        "    old_action = policy[s]\n",
        "    s_after_action = get_s_morning_start(s, action)\n",
        "    old_actual_action = s_after_action[1] - s[1]\n",
        "    old_action_R = - 2 * abs(old_actual_action)\n",
        "    best_action = old_actual_action\n",
        "    for alt_action in A:\n",
        "      alt_action_state_in_morning = get_s_morning_start(s, alt_action)\n",
        "      \n",
        "\n",
        "print(f\"{V[:8,:8]=} \\n\\n {policy[:8,:8]=}\")\n"
      ],
      "metadata": {
        "id": "CuyOQe39aMIG",
        "colab": {
          "base_uri": "https://localhost:8080/"
        },
        "outputId": "16dabe86-1ae4-4a8c-eca8-e1ec716a6cae"
      },
      "execution_count": 137,
      "outputs": [
        {
          "output_type": "stream",
          "name": "stdout",
          "text": [
            "V[:5,:5]=array([[0.1598447 , 0.46059418, 0.63788565, 0.56290277, 0.54804419],\n",
            "       [0.64449234, 0.61233503, 0.82464332, 0.02681707, 0.95836638],\n",
            "       [0.52064236, 0.91209836, 0.04263048, 0.44812278, 0.57409305],\n",
            "       [0.50972473, 0.74782228, 0.71968424, 0.25296903, 0.00490525],\n",
            "       [0.08635293, 0.08315032, 0.54779756, 0.68301723, 0.83563651]]) \n",
            "\n",
            " policy[:5,:5]=array([[0., 0., 0., 0., 0.],\n",
            "       [0., 0., 0., 0., 0.],\n",
            "       [0., 0., 0., 0., 0.],\n",
            "       [0., 0., 0., 0., 0.],\n",
            "       [0., 0., 0., 0., 0.]])\n",
            "sanity: delta=142.48830622195268\n",
            "sanity: delta=145.4205264343295\n",
            "sanity: delta=122.0816366875533\n",
            "sanity: delta=100.87365107943734\n",
            "sanity: delta=83.90495289667723\n",
            "V[:8,:8]=array([[252.96940967, 243.46460658, 262.20226389, 271.16920835,\n",
            "        273.53511086, 291.60804667, 262.69534038, 272.92811283],\n",
            "       [227.3555574 , 250.46935542, 273.13195748, 290.02966653,\n",
            "        282.32508023, 296.53777047, 302.78366465, 297.46295461],\n",
            "       [246.35952221, 251.25259829, 287.28363872, 282.27185144,\n",
            "        287.33589814, 295.77925777, 296.20706109, 283.21812185],\n",
            "       [269.50453694, 266.97139424, 286.8446644 , 279.33527402,\n",
            "        290.64299484, 308.10705409, 299.55723783, 307.22248006],\n",
            "       [255.701254  , 265.76168287, 274.12069696, 294.3146194 ,\n",
            "        316.44731383, 292.8473112 , 304.50770345, 333.25299142],\n",
            "       [290.21411632, 273.87513525, 310.617007  , 284.7783491 ,\n",
            "        292.20286583, 295.68123183, 318.08785977, 305.15284865],\n",
            "       [266.64810206, 289.44878203, 309.78097159, 314.94104747,\n",
            "        302.70506768, 319.5881457 , 312.88377088, 323.91587233],\n",
            "       [282.61055602, 284.60493895, 303.56340497, 291.62379093,\n",
            "        297.64543173, 333.00039032, 339.59547182, 329.16221699]]) \n",
            "\n",
            " policy[:8,:8]=array([[0., 0., 0., 0., 0., 0., 0., 0.],\n",
            "       [0., 0., 0., 0., 0., 0., 0., 0.],\n",
            "       [0., 0., 0., 0., 0., 0., 0., 0.],\n",
            "       [0., 0., 0., 0., 0., 0., 0., 0.],\n",
            "       [0., 0., 0., 0., 0., 0., 0., 0.],\n",
            "       [0., 0., 0., 0., 0., 0., 0., 0.],\n",
            "       [0., 0., 0., 0., 0., 0., 0., 0.],\n",
            "       [0., 0., 0., 0., 0., 0., 0., 0.]])\n",
            "CPU times: user 59.5 s, sys: 430 ms, total: 59.9 s\n",
            "Wall time: 59.7 s\n"
          ]
        }
      ]
    },
    {
      "cell_type": "code",
      "source": [
        "a = np.ndindex(V.shape)\n",
        "a"
      ],
      "metadata": {
        "colab": {
          "base_uri": "https://localhost:8080/"
        },
        "id": "6_dPqT8QaOoh",
        "outputId": "002e524b-a02e-48fc-e3c9-b4bac32b89f2"
      },
      "execution_count": 108,
      "outputs": [
        {
          "output_type": "execute_result",
          "data": {
            "text/plain": [
              "<numpy.ndindex at 0x7f646fab5d60>"
            ]
          },
          "metadata": {},
          "execution_count": 108
        }
      ]
    },
    {
      "cell_type": "code",
      "source": [],
      "metadata": {
        "id": "Nj2fCNO-bWqk"
      },
      "execution_count": null,
      "outputs": []
    }
  ]
}