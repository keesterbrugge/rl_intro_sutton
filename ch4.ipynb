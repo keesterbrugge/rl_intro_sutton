{
  "nbformat": 4,
  "nbformat_minor": 0,
  "metadata": {
    "colab": {
      "provenance": [],
      "authorship_tag": "ABX9TyNPCM2/bSLMLVTRxB2eyXlo",
      "include_colab_link": true
    },
    "kernelspec": {
      "name": "python3",
      "display_name": "Python 3"
    },
    "language_info": {
      "name": "python"
    }
  },
  "cells": [
    {
      "cell_type": "markdown",
      "metadata": {
        "id": "view-in-github",
        "colab_type": "text"
      },
      "source": [
        "<a href=\"https://colab.research.google.com/github/keesterbrugge/rl_intro_sutton/blob/main/ch4.ipynb\" target=\"_parent\"><img src=\"https://colab.research.google.com/assets/colab-badge.svg\" alt=\"Open In Colab\"/></a>"
      ]
    },
    {
      "cell_type": "code",
      "execution_count": null,
      "metadata": {
        "id": "f4-F3KzkRT7s"
      },
      "outputs": [],
      "source": []
    },
    {
      "cell_type": "markdown",
      "source": [
        "Example 4.2: Jack’s Car Rental Jack manages two locations for a nationwide car\n",
        "rental company. Each day, some number of customers arrive at each location to rent cars.\n",
        "If Jack has a car available, he rents it out and is credited 10 by the national company.\n",
        "If he is out of cars at that location, then the business is lost. Cars become available for\n",
        "renting the day after they are returned. To help ensure that cars are available where\n",
        "they are needed, Jack can move them between the two locations overnight, at a cost of\n",
        "$2 per car moved. We assume that the number of cars requested and returned at each\n",
        "location are Poisson random variables, meaning that the probability that the number is n is \u0000n e\u0000\u0000, where \u0000 is the expected number. Suppose \u0000 is 3 and 4 for rental requests at n!\n",
        "the first and second locations and 3 and 2 for returns. To simplify the problem slightly, we assume that there can be no more than 20 cars at each location (any additional cars are returned to the nationwide company, and thus disappear from the problem) and a\n",
        "maximum of five cars can be moved from one location to the other in one night. We take the discount rate to be \u0000 = 0.9 and formulate this as a continuing finite MDP, where the time steps are days, the state is the number of cars at each location at the end of the day, and the actions are the net numbers of cars moved between the two locations overnight. Figure 4.2 shows the sequence of policies found by policy iteration starting from the policy that never moves any cars."
      ],
      "metadata": {
        "id": "aMwYBRpWXCzZ"
      }
    },
    {
      "cell_type": "code",
      "source": [
        "from scipy.stats import poisson\n",
        "import numpy as np\n",
        "import numba as nb\n",
        "# poisson([1,3,4,5]).pmf(k=np.array([4, 5]).T)\n",
        "# poisson.pmf(mu=np.array([3,4]),k=np.array([4, 5]), size=(2,2))"
      ],
      "metadata": {
        "id": "zFnE1FVvbhnN"
      },
      "execution_count": 118,
      "outputs": []
    },
    {
      "cell_type": "code",
      "source": [
        "\n",
        "\n",
        "\n",
        "\n",
        "def get_new_V(s, gamma = .9):\n",
        "  \"\"\"\n",
        "  state update consists of\n",
        "  - stochastic amount of new cars at each location (3 and 2)\n",
        "  - stochastic amount of car rental requests (3 and 4)\n",
        "  - deterministic change in amount of cars based on choice to move from 1 loc to another\n",
        "  \n",
        "  Reward signal:\n",
        "  - deterministically based on action (- 2 dollar per moved car)\n",
        "  - deterministic based on amount of rentals (10 per rented car)\n",
        "  \"\"\"\n",
        "\n",
        "  # don't have to loop over actions, cause policy is deterministc\n",
        "  # loop over all state transitions \n"
      ],
      "metadata": {
        "id": "tm3iISy8sJWD"
      },
      "execution_count": null,
      "outputs": []
    },
    {
      "cell_type": "code",
      "source": [],
      "metadata": {
        "colab": {
          "base_uri": "https://localhost:8080/"
        },
        "id": "LcKQmuBs9Ibr",
        "outputId": "afb5ae58-838e-42b3-b90b-0963a1a42bdb"
      },
      "execution_count": 29,
      "outputs": [
        {
          "output_type": "stream",
          "name": "stderr",
          "text": [
            "<ipython-input-29-fab789a404ec>:1: VisibleDeprecationWarning: Creating an ndarray from ragged nested sequences (which is a list-or-tuple of lists-or-tuples-or ndarrays with different lengths or shapes) is deprecated. If you meant to do this, you must specify 'dtype=object' when creating the ndarray.\n",
            "  np.array([(2,3), 2])\n"
          ]
        },
        {
          "output_type": "execute_result",
          "data": {
            "text/plain": [
              "array([(2, 3), 2], dtype=object)"
            ]
          },
          "metadata": {},
          "execution_count": 29
        }
      ]
    },
    {
      "cell_type": "code",
      "source": [
        "r(s_prime, pi(s), s) \n",
        "allowable_a = clip(a)\n",
        "morning_s = s + allowable_a\n",
        "a_allowed"
      ],
      "metadata": {
        "id": "CD7_MGraBYSU"
      },
      "execution_count": null,
      "outputs": []
    },
    {
      "cell_type": "code",
      "source": [
        "tuple(np.array([3,3]))"
      ],
      "metadata": {
        "colab": {
          "base_uri": "https://localhost:8080/"
        },
        "id": "in-aM8tOHF_5",
        "outputId": "09806d8b-533a-41a0-ba2e-3dd1aaa857a1"
      },
      "execution_count": 44,
      "outputs": [
        {
          "output_type": "execute_result",
          "data": {
            "text/plain": [
              "(3, 3)"
            ]
          },
          "metadata": {},
          "execution_count": 44
        }
      ]
    },
    {
      "cell_type": "code",
      "source": [
        "np.array((2,3))"
      ],
      "metadata": {
        "colab": {
          "base_uri": "https://localhost:8080/"
        },
        "id": "CpMNfDnyHWUy",
        "outputId": "0b487726-306f-4bae-fec6-2f0ac6eb321e"
      },
      "execution_count": 45,
      "outputs": [
        {
          "output_type": "execute_result",
          "data": {
            "text/plain": [
              "array([2, 3])"
            ]
          },
          "metadata": {},
          "execution_count": 45
        }
      ]
    },
    {
      "cell_type": "code",
      "source": [
        "s = (2,3)\n",
        "(s[0] + (-2, 3)"
      ],
      "metadata": {
        "colab": {
          "base_uri": "https://localhost:8080/"
        },
        "id": "_E9XkWkGG5fW",
        "outputId": "b78e1d80-62df-4537-af30-045a4060dc46"
      },
      "execution_count": 39,
      "outputs": [
        {
          "output_type": "execute_result",
          "data": {
            "text/plain": [
              "(2, 3, -2, 3)"
            ]
          },
          "metadata": {},
          "execution_count": 39
        }
      ]
    },
    {
      "cell_type": "code",
      "source": [
        "def get_r(s,a):\n",
        "  reward_action = - 2 * abs(a)\n",
        "  s_after_action = np.clip(np.array(s) + np.array([-a, a]) a_min=0, a_max=20)\n",
        "  mor"
      ],
      "metadata": {
        "id": "fYfgbjmGGYUr"
      },
      "execution_count": null,
      "outputs": []
    },
    {
      "cell_type": "code",
      "source": [
        "\n",
        "def poisson_pmf(lam, k):\n",
        "  return np.exp(-lam) * lam ** k  / np.math.factorial(k) \n",
        "poisson_pmf(3,2)"
      ],
      "metadata": {
        "colab": {
          "base_uri": "https://localhost:8080/"
        },
        "id": "ftmKGJC6v_5h",
        "outputId": "7367384c-c219-4da2-a988-289011881f99"
      },
      "execution_count": 142,
      "outputs": [
        {
          "output_type": "execute_result",
          "data": {
            "text/plain": [
              "0.22404180765538775"
            ]
          },
          "metadata": {},
          "execution_count": 142
        }
      ]
    },
    {
      "cell_type": "code",
      "source": [
        "def poisson_pmf(lam, k):\n",
        "  return np.exp(-lam) * lam ** k  / np.math.factorial(k) \n",
        "poisson_pmf(3,2)\n",
        "\n",
        "# @numba.jit(nopython=True)\n",
        "# def trunc_poisson_jit(mu, k, k_max):\n",
        "k_max = 3\n",
        "[poisson_pmf(3, k=i) for i in range(k_max) ]"
      ],
      "metadata": {
        "colab": {
          "base_uri": "https://localhost:8080/"
        },
        "id": "wga7O6xVvzGr",
        "outputId": "b1c15c31-4756-4636-b82b-9f57ec80b6d4"
      },
      "execution_count": 143,
      "outputs": [
        {
          "output_type": "execute_result",
          "data": {
            "text/plain": [
              "[0.049787068367863944, 0.14936120510359183, 0.22404180765538775]"
            ]
          },
          "metadata": {},
          "execution_count": 143
        }
      ]
    },
    {
      "cell_type": "code",
      "source": [
        "\n",
        "def trunc_poisson(mu, k, k_max):  \n",
        "    if k < k_max: \n",
        "      p = poisson.pmf(mu=3, k=k)\n",
        "    elif (k == k_max):\n",
        "      p = poisson.sf(mu=3, k = k-1)\n",
        "    else:\n",
        "      p = 0.0\n",
        "    return p\n",
        "\n",
        "def get_p_s_prime_1loc(cars_start, rental_req_lambda, car_returns_lambda):\n",
        "\n",
        "  max_cars = 20\n",
        "  p_s_prime_1loc = np.zeros(max_cars+1)\n",
        "\n",
        "  for cars_rented_out in np.arange(cars_start+1):\n",
        "    p_cars_rented_out = trunc_poisson(mu=rental_req_lambda, k=cars_rented_out, k_max=cars_start)\n",
        "\n",
        "    cars_after_renting_out = cars_start - cars_rented_out\n",
        "    max_new_cars = max_cars - cars_after_renting_out\n",
        "\n",
        "    for cars_arrived in np.arange(max_new_cars+1):\n",
        "\n",
        "      p_cars_arrived = trunc_poisson(mu=car_returns_lambda, k=cars_arrived, k_max=max_new_cars)\n",
        "      cars_end = cars_after_renting_out + cars_arrived\n",
        "      p_state_transition = p_cars_rented_out * p_cars_arrived\n",
        "      p_s_prime_1loc[cars_end] += p_state_transition\n",
        "\n",
        "  return p_s_prime_1loc"
      ],
      "metadata": {
        "id": "6HIL249QPADV"
      },
      "execution_count": 131,
      "outputs": []
    },
    {
      "cell_type": "code",
      "source": [
        "def get_prob_per_new_state(s, rental_request_lambdas, car_returns_lambdas):\n",
        "  return np.outer(*[get_p_s_prime_1loc(s[i], rental_request_lambdas[i], car_returns_lambdas[i]) for i in [0, 1]])\n",
        "\n",
        "get_prob_per_new_state((10,10), (3,4), (3,2)).sum()"
      ],
      "metadata": {
        "colab": {
          "base_uri": "https://localhost:8080/"
        },
        "id": "cNsuyhxNTU2-",
        "outputId": "403f8d1f-1385-469b-a1b0-3f536d6e5dc7"
      },
      "execution_count": 82,
      "outputs": [
        {
          "output_type": "execute_result",
          "data": {
            "text/plain": [
              "1.0000000000000004"
            ]
          },
          "metadata": {},
          "execution_count": 82
        }
      ]
    },
    {
      "cell_type": "code",
      "source": [
        "gamma = 0.9\n",
        "max_cars=20\n",
        "V = np.zeros((max_cars+1,max_cars+1))\n",
        "(gamma*V*p_s_prime).sum()"
      ],
      "metadata": {
        "colab": {
          "base_uri": "https://localhost:8080/"
        },
        "id": "oCGIl80EUJrb",
        "outputId": "f1ec063b-7553-4d9c-9477-5a9c49e292d2"
      },
      "execution_count": 73,
      "outputs": [
        {
          "output_type": "execute_result",
          "data": {
            "text/plain": [
              "0.0"
            ]
          },
          "metadata": {},
          "execution_count": 73
        }
      ]
    },
    {
      "cell_type": "code",
      "source": [
        "\n",
        "def get_expected_R(s, rental_request_lambdas):\n",
        "  expected_cars_rented_out = 0\n",
        "  for cars_start, rental_req_lambda in zip(s, rental_request_lambdas):\n",
        "    expected_cars_rented_out += np.array(\n",
        "        [cars_rented_out * trunc_poisson(mu=rental_req_lambda, \n",
        "                                        k=cars_rented_out, \n",
        "                                        k_max=cars_start) \n",
        "        for cars_rented_out in np.arange(cars_start+1)]).sum()\n",
        "\n",
        "    \n",
        "  return 10 * expected_cars_rented_out\n",
        "\n",
        "get_expected_R(s=(3,3), rental_request_lambdas=(4,3))"
      ],
      "metadata": {
        "colab": {
          "base_uri": "https://localhost:8080/"
        },
        "id": "xileeMqlVuc9",
        "outputId": "2c59270d-ad33-481b-8cee-b67b994cf41f"
      },
      "execution_count": 83,
      "outputs": [
        {
          "output_type": "execute_result",
          "data": {
            "text/plain": [
              "46.55749154067674"
            ]
          },
          "metadata": {},
          "execution_count": 83
        }
      ]
    },
    {
      "cell_type": "code",
      "source": [
        "p_state_1loc_after_rental = 5 + trunc_poisson(mu, k, k_max):  \n"
      ],
      "metadata": {
        "colab": {
          "base_uri": "https://localhost:8080/"
        },
        "id": "XiN3tICLEsov",
        "outputId": "e07149c5-702f-4b08-b127-b1b2f543855e"
      },
      "execution_count": 38,
      "outputs": [
        {
          "output_type": "execute_result",
          "data": {
            "text/plain": [
              "8"
            ]
          },
          "metadata": {},
          "execution_count": 38
        }
      ]
    },
    {
      "cell_type": "code",
      "source": [
        "def get_s_after_action(s, action):\n",
        "  return(tuple(np.clip(np.array(s) + np.array([-action, action]), a_min=0, a_max=20).astype('int'))\n",
        ")"
      ],
      "metadata": {
        "id": "9YkscC6xfqVX"
      },
      "execution_count": 153,
      "outputs": []
    },
    {
      "cell_type": "code",
      "source": [
        "morn_to_eve_state_trans_matrices = {}\n",
        "for s in np.ndindex(V.shape):\n",
        "  morn_to_eve_state_trans_matrices[s] = get_prob_per_new_state(s, \n",
        "                                      rental_request_lambdas, \n",
        "                                      car_return_lambdas)"
      ],
      "metadata": {
        "id": "XkUw2tS348S-"
      },
      "execution_count": 146,
      "outputs": []
    },
    {
      "cell_type": "code",
      "source": [
        "np.min([3, 2])"
      ],
      "metadata": {
        "colab": {
          "base_uri": "https://localhost:8080/"
        },
        "id": "2Dewl7hWAhRY",
        "outputId": "cae697bd-7f6d-4f26-888f-b60b68381f43"
      },
      "execution_count": 156,
      "outputs": [
        {
          "output_type": "execute_result",
          "data": {
            "text/plain": [
              "2"
            ]
          },
          "metadata": {},
          "execution_count": 156
        }
      ]
    },
    {
      "cell_type": "code",
      "source": [
        "def get_action_space(s):\n",
        "\n",
        "  max_to_second = np.min([5, s[0]])\n",
        "  max_to_first = np.min([5, s[1]])\n",
        "  return np.arange(-max_to_first, max_to_second + 1)\n",
        "\n",
        "get_action_space((2,1))"
      ],
      "metadata": {
        "colab": {
          "base_uri": "https://localhost:8080/"
        },
        "id": "ey_bpe8B_SfP",
        "outputId": "9b74bfe1-4a53-4c90-8157-838ecc5d2087"
      },
      "execution_count": 157,
      "outputs": [
        {
          "output_type": "execute_result",
          "data": {
            "text/plain": [
              "array([-1,  0,  1,  2])"
            ]
          },
          "metadata": {},
          "execution_count": 157
        }
      ]
    },
    {
      "cell_type": "code",
      "source": [
        "# %%time\n",
        "\n",
        "# 1 init\n",
        "V = np.random.uniform(size=(21,21))\n",
        "A = np.arange(-5,6)\n",
        "policy=np.zeros_like(V)\n",
        "print(f\"{V[:5,:5]=} \\n\\n {policy[:5,:5]=}\")\n",
        "\n",
        "\n",
        "transition_R = np.zeros_like(V)\n",
        "\n",
        "rental_request_lambdas=(3,4)\n",
        "car_return_lambdas = (3,2)\n",
        "gamma = 0.9\n",
        "\n",
        "# 2 \n",
        "delta_theshold = 3\n",
        "\n",
        "delta = delta_theshold + 1\n",
        "\n",
        "P_new_state = get_prob_per_new_state(s_after_action, \n",
        "                                      rental_request_lambdas, \n",
        "                                      car_return_lambdas)\n",
        "\n",
        "morn_to_eve_state_trans_matrices = {}\n",
        "expected_rental_R = {}\n",
        "for s in np.ndindex(V.shape):\n",
        "  morn_to_eve_state_trans_matrices[s] = get_prob_per_new_state(s, \n",
        "                                      rental_request_lambdas, \n",
        "                                      car_return_lambdas)\n",
        "  \n",
        "\n",
        "  expected_rental_Rs[s] = get_expected_R(s, rental_request_lambdas)\n",
        "\n",
        "\n",
        "# while delta >= delta_theshold:\n",
        "for _ in range(12):\n",
        "  delta = 0\n",
        "  # for s in [(19,1)]:\n",
        "  for s in np.random.permutation(list(np.ndindex(V.shape))):\n",
        "    s = tuple(s)\n",
        "    v = V[s]\n",
        "\n",
        "    action = policy[s]\n",
        "    s_after_action = get_s_after_action(s, action)\n",
        "\n",
        "    expected_rental_R = expected_rental_Rs[s_after_action]\n",
        "    P_new_state = morn_to_eve_state_trans_matrices[s_after_action]\n",
        "\n",
        "    expected_V_new_state = (V*P_new_state).sum()\n",
        "\n",
        "    action_R = - 2 * abs(action)\n",
        "    V[s] =  expected_rental_R + action_R + gamma * expected_V_new_state\n",
        "\n",
        "    delta = max(delta, abs(v-V[s]))\n",
        "\n",
        "  print(f\"sanity: {delta=}\")\n",
        "\n",
        "\n",
        "print(f\"{V[:8,:8]=} \\n\\n {policy[:8,:8]=}\")\n",
        "\n",
        "# 3\n",
        "# while delta >= delta_theshold:\n",
        "for _ in range(20):\n",
        "  changes = 0\n",
        "  policy_stable = True\n",
        "  for s in np.random.permutation(list(np.ndindex(V.shape))):\n",
        "    s = tuple(s)\n",
        "    old_action = policy[s]\n",
        "    s_after_action = get_s_morning_start(s, action)\n",
        "    old_actual_action = s_after_action[1] - s[1]\n",
        "    old_action_R = - 2 * abs(old_actual_action)\n",
        "    best_action = old_actual_action\n",
        "    best_V = V[s]\n",
        "    for alt_action in get_action_space(s):\n",
        "      alt_s_in_morning = get_s_morning_start(s, alt_action)\n",
        "      alt_actual_action = alt_s_in_morning[1] - s[1]\n",
        "      alt_V = -2 * abs(alt_actual_action) + transition_R[alt_s_in_morning] + gamma*V[alt_s_in_morning]\n",
        "      if alt_V > best_V:\n",
        "        policy_stable = False\n",
        "        best_V = alt_V\n",
        "        policy[s] = alt_actual_action\n",
        "        changes += 1\n",
        "\n",
        "  print(f\"sanity: {policy_stable}, {changes=}\")\n",
        "\n",
        "      \n",
        "\n",
        "\n",
        "print(f\"{V[:8,:8]=} \\n\\n {policy[:8,:8]=}\")\n"
      ],
      "metadata": {
        "id": "CuyOQe39aMIG",
        "colab": {
          "base_uri": "https://localhost:8080/",
          "height": 419
        },
        "outputId": "0342b4a7-4010-42ce-ebff-2f76645cff86"
      },
      "execution_count": 158,
      "outputs": [
        {
          "output_type": "stream",
          "name": "stdout",
          "text": [
            "V[:5,:5]=array([[0.19369787, 0.51843185, 0.30224921, 0.88218624, 0.64964787],\n",
            "       [0.92491568, 0.10550145, 0.43364549, 0.23963957, 0.00099242],\n",
            "       [0.27602   , 0.37083503, 0.06061199, 0.45367463, 0.59972001],\n",
            "       [0.37889626, 0.70777902, 0.5310784 , 0.86370163, 0.04644563],\n",
            "       [0.73509355, 0.58612066, 0.61826414, 0.07781606, 0.93967588]]) \n",
            "\n",
            " policy[:5,:5]=array([[0., 0., 0., 0., 0.],\n",
            "       [0., 0., 0., 0., 0.],\n",
            "       [0., 0., 0., 0., 0.],\n",
            "       [0., 0., 0., 0., 0.],\n",
            "       [0., 0., 0., 0., 0.]])\n"
          ]
        },
        {
          "output_type": "error",
          "ename": "NameError",
          "evalue": "ignored",
          "traceback": [
            "\u001b[0;31m---------------------------------------------------------------------------\u001b[0m",
            "\u001b[0;31mNameError\u001b[0m                                 Traceback (most recent call last)",
            "\u001b[0;32m<ipython-input-158-4eecb796151f>\u001b[0m in \u001b[0;36m<module>\u001b[0;34m\u001b[0m\n\u001b[1;32m     31\u001b[0m \u001b[0;34m\u001b[0m\u001b[0m\n\u001b[1;32m     32\u001b[0m \u001b[0;34m\u001b[0m\u001b[0m\n\u001b[0;32m---> 33\u001b[0;31m   \u001b[0mexpected_rental_Rs\u001b[0m\u001b[0;34m[\u001b[0m\u001b[0ms\u001b[0m\u001b[0;34m]\u001b[0m \u001b[0;34m=\u001b[0m \u001b[0mget_expected_R\u001b[0m\u001b[0;34m(\u001b[0m\u001b[0ms\u001b[0m\u001b[0;34m,\u001b[0m \u001b[0mrental_request_lambdas\u001b[0m\u001b[0;34m)\u001b[0m\u001b[0;34m\u001b[0m\u001b[0;34m\u001b[0m\u001b[0m\n\u001b[0m\u001b[1;32m     34\u001b[0m \u001b[0;34m\u001b[0m\u001b[0m\n\u001b[1;32m     35\u001b[0m \u001b[0;34m\u001b[0m\u001b[0m\n",
            "\u001b[0;31mNameError\u001b[0m: name 'expected_rental_Rs' is not defined"
          ]
        }
      ]
    },
    {
      "cell_type": "code",
      "source": [
        "a = np.ndindex(V.shape)\n",
        "a"
      ],
      "metadata": {
        "colab": {
          "base_uri": "https://localhost:8080/"
        },
        "id": "6_dPqT8QaOoh",
        "outputId": "002e524b-a02e-48fc-e3c9-b4bac32b89f2"
      },
      "execution_count": 108,
      "outputs": [
        {
          "output_type": "execute_result",
          "data": {
            "text/plain": [
              "<numpy.ndindex at 0x7f646fab5d60>"
            ]
          },
          "metadata": {},
          "execution_count": 108
        }
      ]
    },
    {
      "cell_type": "code",
      "source": [],
      "metadata": {
        "id": "Nj2fCNO-bWqk"
      },
      "execution_count": null,
      "outputs": []
    }
  ]
}