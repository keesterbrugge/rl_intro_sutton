{
  "nbformat": 4,
  "nbformat_minor": 0,
  "metadata": {
    "colab": {
      "provenance": [],
      "authorship_tag": "ABX9TyNBjmONw2KcYt8QTYb43Dr8",
      "include_colab_link": true
    },
    "kernelspec": {
      "name": "python3",
      "display_name": "Python 3"
    },
    "language_info": {
      "name": "python"
    }
  },
  "cells": [
    {
      "cell_type": "markdown",
      "metadata": {
        "id": "view-in-github",
        "colab_type": "text"
      },
      "source": [
        "<a href=\"https://colab.research.google.com/github/keesterbrugge/rl_intro_sutton/blob/main/ch4.ipynb\" target=\"_parent\"><img src=\"https://colab.research.google.com/assets/colab-badge.svg\" alt=\"Open In Colab\"/></a>"
      ]
    },
    {
      "cell_type": "code",
      "execution_count": null,
      "metadata": {
        "id": "f4-F3KzkRT7s"
      },
      "outputs": [],
      "source": []
    },
    {
      "cell_type": "markdown",
      "source": [
        "Example 4.2: Jack’s Car Rental Jack manages two locations for a nationwide car\n",
        "rental company. Each day, some number of customers arrive at each location to rent cars.\n",
        "If Jack has a car available, he rents it out and is credited 10 by the national company.\n",
        "If he is out of cars at that location, then the business is lost. Cars become available for\n",
        "renting the day after they are returned. To help ensure that cars are available where\n",
        "they are needed, Jack can move them between the two locations overnight, at a cost of\n",
        "$2 per car moved. We assume that the number of cars requested and returned at each\n",
        "location are Poisson random variables, meaning that the probability that the number is n is \u0000n e\u0000\u0000, where \u0000 is the expected number. Suppose \u0000 is 3 and 4 for rental requests at n!\n",
        "the first and second locations and 3 and 2 for returns. To simplify the problem slightly, we assume that there can be no more than 20 cars at each location (any additional cars are returned to the nationwide company, and thus disappear from the problem) and a\n",
        "maximum of five cars can be moved from one location to the other in one night. We take the discount rate to be \u0000 = 0.9 and formulate this as a continuing finite MDP, where the time steps are days, the state is the number of cars at each location at the end of the day, and the actions are the net numbers of cars moved between the two locations overnight. Figure 4.2 shows the sequence of policies found by policy iteration starting from the policy that never moves any cars."
      ],
      "metadata": {
        "id": "aMwYBRpWXCzZ"
      }
    },
    {
      "cell_type": "code",
      "source": [
        "from scipy.stats import poisson\n",
        "import numpy as np\n",
        "import numba as nb\n",
        "# poisson([1,3,4,5]).pmf(k=np.array([4, 5]).T)\n",
        "# poisson.pmf(mu=np.array([3,4]),k=np.array([4, 5]), size=(2,2))"
      ],
      "metadata": {
        "id": "zFnE1FVvbhnN"
      },
      "execution_count": 2,
      "outputs": []
    },
    {
      "cell_type": "code",
      "source": [
        "# def get_r(s,a):\n",
        "#   reward_action = - 2 * abs(a)\n",
        "#   s_after_action = np.clip(np.array(s) + np.array([-a, a]) a_min=0, a_max=20)\n",
        "#   mor"
      ],
      "metadata": {
        "id": "fYfgbjmGGYUr"
      },
      "execution_count": 5,
      "outputs": []
    },
    {
      "cell_type": "code",
      "source": [
        "\n",
        "def poisson_pmf(lam, k):\n",
        "  return np.exp(-lam) * lam ** k  / np.math.factorial(k) \n",
        "poisson_pmf(3,2)"
      ],
      "metadata": {
        "colab": {
          "base_uri": "https://localhost:8080/"
        },
        "id": "ftmKGJC6v_5h",
        "outputId": "528193d9-d8b1-4633-b45a-46ff6a5fdea7"
      },
      "execution_count": 6,
      "outputs": [
        {
          "output_type": "execute_result",
          "data": {
            "text/plain": [
              "0.22404180765538775"
            ]
          },
          "metadata": {},
          "execution_count": 6
        }
      ]
    },
    {
      "cell_type": "code",
      "source": [
        "def poisson_pmf(lam, k):\n",
        "  return np.exp(-lam) * lam ** k  / np.math.factorial(k) \n",
        "poisson_pmf(3,2)\n",
        "\n",
        "# @numba.jit(nopython=True)\n",
        "# def trunc_poisson_jit(mu, k, k_max):\n",
        "k_max = 3\n",
        "[poisson_pmf(3, k=i) for i in range(k_max) ]"
      ],
      "metadata": {
        "colab": {
          "base_uri": "https://localhost:8080/"
        },
        "id": "wga7O6xVvzGr",
        "outputId": "0c183f8d-3025-42a1-cde7-5bd7303ff523"
      },
      "execution_count": 7,
      "outputs": [
        {
          "output_type": "execute_result",
          "data": {
            "text/plain": [
              "[0.049787068367863944, 0.14936120510359183, 0.22404180765538775]"
            ]
          },
          "metadata": {},
          "execution_count": 7
        }
      ]
    },
    {
      "cell_type": "code",
      "source": [
        "\n",
        "def trunc_poisson(mu, k, k_max):  \n",
        "    if k < k_max: \n",
        "      p = poisson.pmf(mu=3, k=k)\n",
        "    elif (k == k_max):\n",
        "      p = poisson.sf(mu=3, k = k-1)\n",
        "    else:\n",
        "      p = 0.0\n",
        "    return p\n",
        "\n",
        "def get_p_s_prime_1loc(cars_start, rental_req_lambda, car_returns_lambda):\n",
        "\n",
        "  max_cars = 20\n",
        "  p_s_prime_1loc = np.zeros(max_cars+1)\n",
        "\n",
        "  for cars_rented_out in np.arange(cars_start+1):\n",
        "    p_cars_rented_out = trunc_poisson(mu=rental_req_lambda, k=cars_rented_out, k_max=cars_start)\n",
        "\n",
        "    cars_after_renting_out = cars_start - cars_rented_out\n",
        "    max_new_cars = max_cars - cars_after_renting_out\n",
        "\n",
        "    for cars_arrived in np.arange(max_new_cars+1):\n",
        "\n",
        "      p_cars_arrived = trunc_poisson(mu=car_returns_lambda, k=cars_arrived, k_max=max_new_cars)\n",
        "      cars_end = cars_after_renting_out + cars_arrived\n",
        "      p_state_transition = p_cars_rented_out * p_cars_arrived\n",
        "      p_s_prime_1loc[cars_end] += p_state_transition\n",
        "\n",
        "  return p_s_prime_1loc"
      ],
      "metadata": {
        "id": "6HIL249QPADV"
      },
      "execution_count": 8,
      "outputs": []
    },
    {
      "cell_type": "code",
      "source": [
        "def get_prob_per_new_state(s, rental_request_lambdas, car_returns_lambdas):\n",
        "  return np.outer(*[get_p_s_prime_1loc(s[i], rental_request_lambdas[i], car_returns_lambdas[i]) for i in [0, 1]])\n",
        "\n",
        "get_prob_per_new_state((10,10), (3,4), (3,2)).sum()"
      ],
      "metadata": {
        "colab": {
          "base_uri": "https://localhost:8080/"
        },
        "id": "cNsuyhxNTU2-",
        "outputId": "833355bf-6e7c-4ba3-be9e-caeb577b0e4d"
      },
      "execution_count": 9,
      "outputs": [
        {
          "output_type": "execute_result",
          "data": {
            "text/plain": [
              "1.0000000000000004"
            ]
          },
          "metadata": {},
          "execution_count": 9
        }
      ]
    },
    {
      "cell_type": "code",
      "source": [
        "# gamma = 0.9\n",
        "# max_cars=20\n",
        "# V = np.zeros((max_cars+1,max_cars+1))\n",
        "# (gamma*V*p_s_prime).sum()"
      ],
      "metadata": {
        "id": "oCGIl80EUJrb"
      },
      "execution_count": 12,
      "outputs": []
    },
    {
      "cell_type": "code",
      "source": [
        "\n",
        "def get_expected_R(s, rental_request_lambdas):\n",
        "  expected_cars_rented_out = 0\n",
        "  for cars_start, rental_req_lambda in zip(s, rental_request_lambdas):\n",
        "    expected_cars_rented_out += np.array(\n",
        "        [cars_rented_out * trunc_poisson(mu=rental_req_lambda, \n",
        "                                        k=cars_rented_out, \n",
        "                                        k_max=cars_start) \n",
        "        for cars_rented_out in np.arange(cars_start+1)]).sum()\n",
        "\n",
        "    \n",
        "  return 10 * expected_cars_rented_out\n",
        "\n",
        "get_expected_R(s=(3,3), rental_request_lambdas=(4,3))"
      ],
      "metadata": {
        "colab": {
          "base_uri": "https://localhost:8080/"
        },
        "id": "xileeMqlVuc9",
        "outputId": "db857e85-772e-4e3f-aac5-49c235ddca52"
      },
      "execution_count": 13,
      "outputs": [
        {
          "output_type": "execute_result",
          "data": {
            "text/plain": [
              "46.55749154067674"
            ]
          },
          "metadata": {},
          "execution_count": 13
        }
      ]
    },
    {
      "cell_type": "code",
      "source": [
        "def get_s_after_action(s, action):\n",
        "  return(tuple(np.clip(np.array(s) + np.array([-action, action]), a_min=0, a_max=20).astype('int'))\n",
        ")"
      ],
      "metadata": {
        "id": "9YkscC6xfqVX"
      },
      "execution_count": 15,
      "outputs": []
    },
    {
      "cell_type": "code",
      "source": [
        "# morn_to_eve_state_trans_matrices = {}\n",
        "# for s in np.ndindex(V.shape):\n",
        "#   morn_to_eve_state_trans_matrices[s] = get_prob_per_new_state(s, \n",
        "#                                       rental_request_lambdas, \n",
        "#                                       car_return_lambdas)"
      ],
      "metadata": {
        "id": "XkUw2tS348S-"
      },
      "execution_count": 17,
      "outputs": []
    },
    {
      "cell_type": "code",
      "source": [
        "np.min([3, 2])"
      ],
      "metadata": {
        "colab": {
          "base_uri": "https://localhost:8080/"
        },
        "id": "2Dewl7hWAhRY",
        "outputId": "05b8b49d-df54-4e67-cc76-1d2732aaf061"
      },
      "execution_count": 18,
      "outputs": [
        {
          "output_type": "execute_result",
          "data": {
            "text/plain": [
              "2"
            ]
          },
          "metadata": {},
          "execution_count": 18
        }
      ]
    },
    {
      "cell_type": "code",
      "source": [
        "def get_action_space(s):\n",
        "\n",
        "  max_to_second = np.min([5, s[0]])\n",
        "  max_to_first = np.min([5, s[1]])\n",
        "  return np.arange(-max_to_first, max_to_second + 1)\n",
        "\n",
        "get_action_space((2,1))\n",
        "\n",
        "def get_action_R(a):\n",
        "  return -2 * abs(a)"
      ],
      "metadata": {
        "id": "ey_bpe8B_SfP"
      },
      "execution_count": 22,
      "outputs": []
    },
    {
      "cell_type": "code",
      "source": [
        "# %%time\n",
        "\n",
        "# 1 init\n",
        "V = np.random.uniform(size=(21,21))\n",
        "A = np.arange(-5,6)\n",
        "policy=np.zeros_like(V)\n",
        "print(f\"{V[:5,:5]=} \\n\\n {policy[:5,:5]=}\")\n",
        "\n",
        "\n",
        "transition_R = np.zeros_like(V)\n",
        "\n",
        "rental_request_lambdas=(3,4)\n",
        "car_return_lambdas = (3,2)\n",
        "gamma = 0.9\n",
        "\n",
        "# 2 \n",
        "delta_theshold = 3\n",
        "\n",
        "delta = delta_theshold + 1\n",
        "\n",
        "# P_new_state = get_prob_per_new_state(s_after_action, \n",
        "#                                       rental_request_lambdas, \n",
        "#                                       car_return_lambdas)\n",
        "\n",
        "morn_to_eve_state_trans_matrices = {}\n",
        "expected_rental_Rs = {}\n",
        "for s in np.ndindex(V.shape):\n",
        "  morn_to_eve_state_trans_matrices[s] = get_prob_per_new_state(s, \n",
        "                                      rental_request_lambdas, \n",
        "                                      car_return_lambdas)\n",
        "  \n",
        "\n",
        "  expected_rental_Rs[s] = get_expected_R(s, rental_request_lambdas)\n",
        "\n",
        "def q_s_a(s, action ):\n",
        "    s_after_action = get_s_after_action(s, action)\n",
        "    expected_rental_R = expected_rental_Rs[s_after_action]\n",
        "    P_new_state = morn_to_eve_state_trans_matrices[s_after_action]\n",
        "    expected_V_new_state = (V*P_new_state).sum()\n",
        "    return expected_rental_R + get_action_R(action) + gamma * expected_V_new_state\n",
        "\n",
        "# while delta >= delta_theshold:\n",
        "def value_improvement(V, policy):\n",
        "  delta = 100\n",
        "  while delta > .5:\n",
        "    delta = 0\n",
        "    # for s in [(19,1)]:\n",
        "    for s in np.random.permutation(list(np.ndindex(V.shape))):\n",
        "      s = tuple(s)\n",
        "      v = V[s]\n",
        "\n",
        "      action = policy[s]\n",
        "      # s_after_action = get_s_after_action(s, action)\n",
        "\n",
        "      # expected_rental_R = expected_rental_Rs[s_after_action]\n",
        "      # P_new_state = morn_to_eve_state_trans_matrices[s_after_action]\n",
        "\n",
        "      # expected_V_new_state = (V*P_new_state).sum()\n",
        "      #expected_rental_R + get_action_R(action) + gamma * expected_V_new_state\n",
        "\n",
        "      # because deterministic\n",
        "      V[s] =  q_s_a(s, action) \n",
        "\n",
        "      delta = max(delta, abs(v-V[s]))\n",
        "\n",
        "    print(f\"sanity: {delta=}\")\n",
        "  return V\n",
        "\n",
        "\n",
        "print(f\"{V[:8,:8]=} \\n\\n {policy[:8,:8]=}\")\n",
        "\n",
        "\n",
        "# 3\n",
        "# while delta >= delta_theshold:\n",
        "def policy_improvement(V, policy):\n",
        "  policy_stable = False\n",
        "  while policy_stable == False:\n",
        "    changes = 0\n",
        "    policy_stable = True\n",
        "    for s in np.random.permutation(list(np.ndindex(V.shape))):\n",
        "      s = tuple(s)\n",
        "      old_a = policy[s]\n",
        "      qs = {a : q_s_a(s, a) for a in get_action_space(s)}\n",
        "      if qs[old_a] != max(qs.values()):\n",
        "        policy_stable = False\n",
        "        changes += 1 \n",
        "        policy[s] = max(qs, key=qs.get)\n",
        "\n",
        "    print(f\"sanity: {policy_stable}, {changes=}\")\n",
        "\n",
        "  return policy\n",
        "\n",
        "Vs = []\n",
        "policies = []\n",
        "V_i = V\n",
        "policy_i = policy\n",
        "for _ in range(7):\n",
        "  V_i = value_improvement(V, policy)\n",
        "  Vs.append(V_i)\n",
        "\n",
        "  policy_i = policy_improvement(V, policy)\n",
        "  policies.append(policy_i) \n",
        "\n",
        "\n",
        "\n",
        "\n",
        "# # 3\n",
        "# # while delta >= delta_theshold:\n",
        "# for _ in range(20):\n",
        "#   changes = 0\n",
        "#   policy_stable = True\n",
        "#   for s in np.random.permutation(list(np.ndindex(V.shape))):\n",
        "#     s = tuple(s)\n",
        "#     old_action = policy[s]\n",
        "#     s_after_action = get_s_morning_start(s, action)\n",
        "#     old_actual_action = s_after_action[1] - s[1]\n",
        "#     old_action_R = - 2 * abs(old_actual_action)\n",
        "#     best_action = old_actual_action\n",
        "#     best_V = V[s]\n",
        "#     for alt_action in get_action_space(s):\n",
        "#       alt_s_in_morning = get_s_morning_start(s, alt_action)\n",
        "#       alt_actual_action = alt_s_in_morning[1] - s[1]\n",
        "#       alt_V = -2 * abs(alt_actual_action) + transition_R[alt_s_in_morning] + gamma*V[alt_s_in_morning]\n",
        "#       if alt_V > best_V:\n",
        "#         policy_stable = False\n",
        "#         best_V = alt_V\n",
        "#         policy[s] = alt_actual_action\n",
        "#         changes += 1\n",
        "\n",
        "#   print(f\"sanity: {policy_stable}, {changes=}\")\n",
        "\n",
        "      \n",
        "\n",
        "\n",
        "print(f\"{V[:8,:8]=} \\n\\n {policy[:8,:8]=}\")\n"
      ],
      "metadata": {
        "id": "CuyOQe39aMIG",
        "colab": {
          "base_uri": "https://localhost:8080/"
        },
        "outputId": "b469b3db-bc90-4deb-da37-a798114723af"
      },
      "execution_count": 29,
      "outputs": [
        {
          "output_type": "stream",
          "name": "stdout",
          "text": [
            "V[:5,:5]=array([[0.21093642, 0.47876359, 0.99243672, 0.58512817, 0.03686681],\n",
            "       [0.45650216, 0.17053343, 0.22827881, 0.07430245, 0.90013811],\n",
            "       [0.40246837, 0.24059556, 0.7571531 , 0.67754104, 0.59155799],\n",
            "       [0.36728773, 0.00981785, 0.77991614, 0.4383739 , 0.48584147],\n",
            "       [0.52337219, 0.00099545, 0.12958017, 0.74419159, 0.60275071]]) \n",
            "\n",
            " policy[:5,:5]=array([[0., 0., 0., 0., 0.],\n",
            "       [0., 0., 0., 0., 0.],\n",
            "       [0., 0., 0., 0., 0.],\n",
            "       [0., 0., 0., 0., 0.],\n",
            "       [0., 0., 0., 0., 0.]])\n",
            "V[:8,:8]=array([[0.21093642, 0.47876359, 0.99243672, 0.58512817, 0.03686681,\n",
            "        0.21317332, 0.69601088, 0.45384895],\n",
            "       [0.45650216, 0.17053343, 0.22827881, 0.07430245, 0.90013811,\n",
            "        0.5039734 , 0.20814477, 0.76583485],\n",
            "       [0.40246837, 0.24059556, 0.7571531 , 0.67754104, 0.59155799,\n",
            "        0.63571112, 0.25112749, 0.83836765],\n",
            "       [0.36728773, 0.00981785, 0.77991614, 0.4383739 , 0.48584147,\n",
            "        0.6936336 , 0.63953989, 0.63902809],\n",
            "       [0.52337219, 0.00099545, 0.12958017, 0.74419159, 0.60275071,\n",
            "        0.35032309, 0.3980526 , 0.70630849],\n",
            "       [0.69614218, 0.64071843, 0.61208131, 0.06345367, 0.81052659,\n",
            "        0.12920902, 0.26085191, 0.02300848],\n",
            "       [0.93292587, 0.16764083, 0.09397408, 0.0937212 , 0.96615558,\n",
            "        0.56074606, 0.35056717, 0.05293957],\n",
            "       [0.85235155, 0.68854475, 0.48234091, 0.35355957, 0.36532752,\n",
            "        0.40139651, 0.40441886, 0.59310821]]) \n",
            "\n",
            " policy[:8,:8]=array([[0., 0., 0., 0., 0., 0., 0., 0.],\n",
            "       [0., 0., 0., 0., 0., 0., 0., 0.],\n",
            "       [0., 0., 0., 0., 0., 0., 0., 0.],\n",
            "       [0., 0., 0., 0., 0., 0., 0., 0.],\n",
            "       [0., 0., 0., 0., 0., 0., 0., 0.],\n",
            "       [0., 0., 0., 0., 0., 0., 0., 0.],\n",
            "       [0., 0., 0., 0., 0., 0., 0., 0.],\n",
            "       [0., 0., 0., 0., 0., 0., 0., 0.]])\n",
            "sanity: delta=141.55986412757622\n",
            "sanity: delta=148.6949490686195\n",
            "sanity: delta=121.04738935203625\n",
            "sanity: delta=100.50351647739672\n",
            "sanity: delta=87.15238240736181\n",
            "sanity: delta=74.26435730292371\n",
            "sanity: delta=60.799302830330134\n",
            "sanity: delta=51.72326027778337\n",
            "sanity: delta=43.56376420352706\n",
            "sanity: delta=37.319636356644196\n",
            "sanity: delta=30.35529227303425\n",
            "sanity: delta=26.423204490727585\n",
            "sanity: delta=22.005173145680033\n",
            "sanity: delta=18.161130364742064\n",
            "sanity: delta=15.745870896126121\n",
            "sanity: delta=12.9023847429537\n",
            "sanity: delta=10.864828057692819\n",
            "sanity: delta=9.335357811388121\n",
            "sanity: delta=7.497840925357082\n",
            "sanity: delta=6.5697352399297415\n",
            "sanity: delta=5.4736684236308975\n",
            "sanity: delta=4.794178659859995\n",
            "sanity: delta=3.9661713547775435\n",
            "sanity: delta=3.2634954539748833\n",
            "sanity: delta=2.7838469381713367\n",
            "sanity: delta=2.348688148163774\n",
            "sanity: delta=1.9423245787975247\n",
            "sanity: delta=1.6565116249798848\n",
            "sanity: delta=1.3906264042529983\n",
            "sanity: delta=1.147657957000547\n",
            "sanity: delta=1.007155211237773\n",
            "sanity: delta=0.8534378301062588\n",
            "sanity: delta=0.6794954354736547\n",
            "sanity: delta=0.5884535574903111\n",
            "sanity: delta=0.5094691824726851\n",
            "sanity: delta=0.4195418468474372\n",
            "sanity: False, changes=228\n",
            "sanity: True, changes=0\n",
            "sanity: delta=32.683585563035194\n",
            "sanity: delta=3.57765556027573\n",
            "sanity: delta=1.8013066012010768\n",
            "sanity: delta=1.4694903475933643\n",
            "sanity: delta=1.1470933785551551\n",
            "sanity: delta=0.9721298658122919\n",
            "sanity: delta=0.7867963025852305\n",
            "sanity: delta=0.6707646376196408\n",
            "sanity: delta=0.5220148332614372\n",
            "sanity: delta=0.41327931055207046\n",
            "sanity: False, changes=162\n",
            "sanity: True, changes=0\n",
            "sanity: delta=2.1868515352603026\n",
            "sanity: delta=1.323403789095778\n",
            "sanity: delta=0.846828167411104\n",
            "sanity: delta=0.6293218332044717\n",
            "sanity: delta=0.4504342440231994\n",
            "sanity: False, changes=38\n",
            "sanity: True, changes=0\n",
            "sanity: delta=0.4572681315571572\n",
            "sanity: False, changes=10\n",
            "sanity: True, changes=0\n",
            "sanity: delta=0.30991177522400903\n",
            "sanity: True, changes=0\n",
            "sanity: delta=0.24318264525504674\n",
            "sanity: True, changes=0\n",
            "sanity: delta=0.20000752752048356\n",
            "sanity: True, changes=0\n",
            "V[:8,:8]=array([[467.81066778, 477.65451603, 486.84966034, 495.25373842,\n",
            "        503.0886139 , 510.39340532, 517.58635042, 523.83826929],\n",
            "       [477.62657275, 487.42419841, 496.71583355, 505.10937977,\n",
            "        512.35745273, 519.55886225, 525.82114728, 532.03944463],\n",
            "       [486.91828989, 496.71178608, 505.990893  , 514.34890563,\n",
            "        521.6338098 , 527.84231116, 533.9925655 , 539.32970997],\n",
            "       [495.21875832, 505.04861139, 514.31663017, 522.58799071,\n",
            "        529.80969157, 535.97170724, 541.2785593 , 546.12117613],\n",
            "       [503.05536287, 512.36955376, 521.55135131, 529.85449475,\n",
            "        536.9403056 , 542.96012484, 548.09404942, 552.58366881],\n",
            "       [510.38861485, 519.56132864, 527.81450713, 536.03706739,\n",
            "        542.97481639, 548.82745561, 553.82960131, 558.05819057],\n",
            "       [517.58472621, 525.84360129, 534.04144021, 541.30871691,\n",
            "        548.12343115, 553.86774861, 558.64707339, 562.64653851],\n",
            "       [523.80542732, 532.01376364, 539.32589628, 546.11047238,\n",
            "        552.58674849, 558.06003579, 562.6606089 , 566.5336187 ]]) \n",
            "\n",
            " policy[:8,:8]=array([[ 0.,  0.,  0.,  0., -1., -1., -2., -2.],\n",
            "       [ 0.,  0.,  0.,  0.,  0., -1., -1., -2.],\n",
            "       [ 0.,  0.,  0.,  0.,  0.,  0., -1., -1.],\n",
            "       [ 0.,  0.,  0.,  0.,  0.,  0.,  0., -1.],\n",
            "       [ 1.,  0.,  0.,  0.,  0.,  0.,  0.,  0.],\n",
            "       [ 1.,  1.,  0.,  0.,  0.,  0.,  0.,  0.],\n",
            "       [ 2.,  1.,  1.,  0.,  0.,  0.,  0.,  0.],\n",
            "       [ 2.,  2.,  1.,  1.,  0.,  0.,  0.,  0.]])\n"
          ]
        }
      ]
    },
    {
      "cell_type": "code",
      "source": [
        "import matplotlib.pyplot as plt"
      ],
      "metadata": {
        "id": "QSr4aj35_Gm_"
      },
      "execution_count": 30,
      "outputs": []
    },
    {
      "cell_type": "code",
      "source": [
        "policies[-1]"
      ],
      "metadata": {
        "id": "DGkZLkMO_O0b",
        "outputId": "6bc8c037-a0f5-471a-9414-e343a754e599",
        "colab": {
          "base_uri": "https://localhost:8080/"
        }
      },
      "execution_count": 31,
      "outputs": [
        {
          "output_type": "execute_result",
          "data": {
            "text/plain": [
              "array([[ 0.,  0.,  0.,  0., -1., -1., -2., -2., -3., -3., -4., -4., -4.,\n",
              "        -4., -5., -5., -5., -5., -5., -5., -5.],\n",
              "       [ 0.,  0.,  0.,  0.,  0., -1., -1., -2., -2., -3., -3., -3., -3.,\n",
              "        -4., -4., -4., -4., -4., -4., -4., -5.],\n",
              "       [ 0.,  0.,  0.,  0.,  0.,  0., -1., -1., -2., -2., -2., -2., -3.,\n",
              "        -3., -3., -3., -3., -3., -3., -4., -4.],\n",
              "       [ 0.,  0.,  0.,  0.,  0.,  0.,  0., -1., -1., -1., -1., -2., -2.,\n",
              "        -2., -2., -2., -2., -2., -3., -3., -3.],\n",
              "       [ 1.,  0.,  0.,  0.,  0.,  0.,  0.,  0.,  0.,  0., -1., -1., -1.,\n",
              "        -1., -1., -1., -1., -2., -2., -2., -2.],\n",
              "       [ 1.,  1.,  0.,  0.,  0.,  0.,  0.,  0.,  0.,  0.,  0.,  0.,  0.,\n",
              "         0.,  0.,  0., -1., -1., -1., -1., -1.],\n",
              "       [ 2.,  1.,  1.,  0.,  0.,  0.,  0.,  0.,  0.,  0.,  0.,  0.,  0.,\n",
              "         0.,  0.,  0.,  0.,  0.,  0.,  0.,  0.],\n",
              "       [ 2.,  2.,  1.,  1.,  0.,  0.,  0.,  0.,  0.,  0.,  0.,  0.,  0.,\n",
              "         0.,  0.,  0.,  0.,  0.,  0.,  0.,  0.],\n",
              "       [ 3.,  2.,  2.,  1.,  0.,  0.,  0.,  0.,  0.,  0.,  0.,  0.,  0.,\n",
              "         0.,  0.,  0.,  0.,  0.,  0.,  0.,  0.],\n",
              "       [ 3.,  3.,  2.,  1.,  0.,  0.,  0.,  0.,  0.,  0.,  0.,  0.,  0.,\n",
              "         0.,  0.,  0.,  0.,  0.,  0.,  0.,  0.],\n",
              "       [ 4.,  3.,  2.,  1.,  1.,  0.,  0.,  0.,  0.,  0.,  0.,  0.,  0.,\n",
              "         0.,  0.,  0.,  0.,  0.,  0.,  0.,  0.],\n",
              "       [ 4.,  3.,  2.,  2.,  1.,  0.,  0.,  0.,  0.,  0.,  0.,  0.,  0.,\n",
              "         0.,  0.,  0.,  0.,  0.,  0.,  0.,  0.],\n",
              "       [ 4.,  3.,  3.,  2.,  1.,  0.,  0.,  0.,  0.,  0.,  0.,  0.,  0.,\n",
              "         0.,  0.,  0.,  0.,  0.,  0.,  0.,  0.],\n",
              "       [ 4.,  4.,  3.,  2.,  1.,  0.,  0.,  0.,  0.,  0.,  0.,  0.,  0.,\n",
              "         0.,  0.,  0.,  0.,  0.,  0.,  0.,  0.],\n",
              "       [ 5.,  4.,  3.,  2.,  1.,  0.,  0.,  0.,  0.,  0.,  0.,  0.,  0.,\n",
              "         0.,  0.,  0.,  0.,  0.,  0.,  0.,  0.],\n",
              "       [ 5.,  4.,  3.,  2.,  1.,  0.,  0.,  0.,  0.,  0.,  0.,  0.,  0.,\n",
              "         0.,  0.,  0.,  0.,  0.,  0.,  0.,  0.],\n",
              "       [ 5.,  4.,  3.,  2.,  1.,  1.,  0.,  0.,  0.,  0.,  0.,  0.,  0.,\n",
              "         0.,  0.,  0.,  0.,  0.,  0.,  0.,  0.],\n",
              "       [ 5.,  4.,  3.,  2.,  2.,  1.,  0.,  0.,  0.,  0.,  0.,  0.,  0.,\n",
              "         0.,  0.,  0.,  0.,  0.,  0.,  0.,  0.],\n",
              "       [ 5.,  4.,  3.,  3.,  2.,  1.,  0.,  0.,  0.,  0.,  0.,  0.,  0.,\n",
              "         0.,  0.,  0.,  0.,  0.,  0.,  0.,  0.],\n",
              "       [ 5.,  4.,  4.,  3.,  2.,  1.,  0.,  0.,  0.,  0.,  0.,  0.,  0.,\n",
              "         0.,  0.,  0.,  0.,  0.,  0.,  0.,  0.],\n",
              "       [ 5.,  5.,  4.,  3.,  2.,  1.,  0.,  0.,  0.,  0.,  0.,  0.,  0.,\n",
              "         0.,  0.,  0.,  0.,  0.,  0.,  0.,  0.]])"
            ]
          },
          "metadata": {},
          "execution_count": 31
        }
      ]
    },
    {
      "cell_type": "code",
      "source": [
        "policies[-1].shape\n",
        "X.shape"
      ],
      "metadata": {
        "id": "bcr7ohLq_wPM",
        "outputId": "8c0b6c9e-dccb-4049-a997-9e20d3bfd3d2",
        "colab": {
          "base_uri": "https://localhost:8080/"
        }
      },
      "execution_count": 42,
      "outputs": [
        {
          "output_type": "execute_result",
          "data": {
            "text/plain": [
              "(22, 22)"
            ]
          },
          "metadata": {},
          "execution_count": 42
        }
      ]
    },
    {
      "cell_type": "code",
      "source": [
        "x = np.arange(21)\n",
        "y = np.arange(21)\n",
        "# y = np.linspace(0, stop=20, step=1)\n",
        "\n",
        "X, Y = np.meshgrid(x, y)\n",
        "X\n",
        "\n"
      ],
      "metadata": {
        "id": "kKRk5jrp_Gli",
        "outputId": "2b445ee1-a024-4da1-89cd-a5a83e8f2f6e",
        "colab": {
          "base_uri": "https://localhost:8080/"
        }
      },
      "execution_count": 43,
      "outputs": [
        {
          "output_type": "execute_result",
          "data": {
            "text/plain": [
              "array([[ 0,  1,  2,  3,  4,  5,  6,  7,  8,  9, 10, 11, 12, 13, 14, 15,\n",
              "        16, 17, 18, 19, 20],\n",
              "       [ 0,  1,  2,  3,  4,  5,  6,  7,  8,  9, 10, 11, 12, 13, 14, 15,\n",
              "        16, 17, 18, 19, 20],\n",
              "       [ 0,  1,  2,  3,  4,  5,  6,  7,  8,  9, 10, 11, 12, 13, 14, 15,\n",
              "        16, 17, 18, 19, 20],\n",
              "       [ 0,  1,  2,  3,  4,  5,  6,  7,  8,  9, 10, 11, 12, 13, 14, 15,\n",
              "        16, 17, 18, 19, 20],\n",
              "       [ 0,  1,  2,  3,  4,  5,  6,  7,  8,  9, 10, 11, 12, 13, 14, 15,\n",
              "        16, 17, 18, 19, 20],\n",
              "       [ 0,  1,  2,  3,  4,  5,  6,  7,  8,  9, 10, 11, 12, 13, 14, 15,\n",
              "        16, 17, 18, 19, 20],\n",
              "       [ 0,  1,  2,  3,  4,  5,  6,  7,  8,  9, 10, 11, 12, 13, 14, 15,\n",
              "        16, 17, 18, 19, 20],\n",
              "       [ 0,  1,  2,  3,  4,  5,  6,  7,  8,  9, 10, 11, 12, 13, 14, 15,\n",
              "        16, 17, 18, 19, 20],\n",
              "       [ 0,  1,  2,  3,  4,  5,  6,  7,  8,  9, 10, 11, 12, 13, 14, 15,\n",
              "        16, 17, 18, 19, 20],\n",
              "       [ 0,  1,  2,  3,  4,  5,  6,  7,  8,  9, 10, 11, 12, 13, 14, 15,\n",
              "        16, 17, 18, 19, 20],\n",
              "       [ 0,  1,  2,  3,  4,  5,  6,  7,  8,  9, 10, 11, 12, 13, 14, 15,\n",
              "        16, 17, 18, 19, 20],\n",
              "       [ 0,  1,  2,  3,  4,  5,  6,  7,  8,  9, 10, 11, 12, 13, 14, 15,\n",
              "        16, 17, 18, 19, 20],\n",
              "       [ 0,  1,  2,  3,  4,  5,  6,  7,  8,  9, 10, 11, 12, 13, 14, 15,\n",
              "        16, 17, 18, 19, 20],\n",
              "       [ 0,  1,  2,  3,  4,  5,  6,  7,  8,  9, 10, 11, 12, 13, 14, 15,\n",
              "        16, 17, 18, 19, 20],\n",
              "       [ 0,  1,  2,  3,  4,  5,  6,  7,  8,  9, 10, 11, 12, 13, 14, 15,\n",
              "        16, 17, 18, 19, 20],\n",
              "       [ 0,  1,  2,  3,  4,  5,  6,  7,  8,  9, 10, 11, 12, 13, 14, 15,\n",
              "        16, 17, 18, 19, 20],\n",
              "       [ 0,  1,  2,  3,  4,  5,  6,  7,  8,  9, 10, 11, 12, 13, 14, 15,\n",
              "        16, 17, 18, 19, 20],\n",
              "       [ 0,  1,  2,  3,  4,  5,  6,  7,  8,  9, 10, 11, 12, 13, 14, 15,\n",
              "        16, 17, 18, 19, 20],\n",
              "       [ 0,  1,  2,  3,  4,  5,  6,  7,  8,  9, 10, 11, 12, 13, 14, 15,\n",
              "        16, 17, 18, 19, 20],\n",
              "       [ 0,  1,  2,  3,  4,  5,  6,  7,  8,  9, 10, 11, 12, 13, 14, 15,\n",
              "        16, 17, 18, 19, 20],\n",
              "       [ 0,  1,  2,  3,  4,  5,  6,  7,  8,  9, 10, 11, 12, 13, 14, 15,\n",
              "        16, 17, 18, 19, 20]])"
            ]
          },
          "metadata": {},
          "execution_count": 43
        }
      ]
    },
    {
      "cell_type": "code",
      "source": [
        "plt.contour(X, Y, policies[-1], colors='black');\n"
      ],
      "metadata": {
        "id": "8wSCqTW0_GjE",
        "outputId": "78d38ccd-0685-4b43-8e49-e755835dd768",
        "colab": {
          "base_uri": "https://localhost:8080/",
          "height": 269
        }
      },
      "execution_count": 44,
      "outputs": [
        {
          "output_type": "display_data",
          "data": {
            "text/plain": [
              "<Figure size 432x288 with 1 Axes>"
            ],
            "image/png": "[encoded data removed]"
          },
          "metadata": {
            "needs_background": "light"
          }
        }
      ]
    },
    {
      "cell_type": "code",
      "source": [
        "np.array([-4 for cars in s if cars > 20])"
      ],
      "metadata": {
        "id": "NtF6ih5w_GYo",
        "outputId": "da07ca1e-74fd-425e-f80e-ddb00013a0c0",
        "colab": {
          "base_uri": "https://localhost:8080/"
        }
      },
      "execution_count": 50,
      "outputs": [
        {
          "output_type": "execute_result",
          "data": {
            "text/plain": [
              "array([], dtype=float64)"
            ]
          },
          "metadata": {},
          "execution_count": 50
        }
      ]
    },
    {
      "cell_type": "code",
      "source": [
        "a = np.ndindex(V.shape)\n",
        "a"
      ],
      "metadata": {
        "id": "6_dPqT8QaOoh"
      },
      "execution_count": null,
      "outputs": []
    },
    {
      "cell_type": "code",
      "source": [
        "stats = dict(a = 3, b = 5, c =4)\n",
        "max(stats, key=stats.get)\n"
      ],
      "metadata": {
        "id": "Nj2fCNO-bWqk",
        "outputId": "6a95b73b-74db-4a82-fa9c-8ff12cb5c29e",
        "colab": {
          "base_uri": "https://localhost:8080/",
          "height": 35
        }
      },
      "execution_count": 25,
      "outputs": [
        {
          "output_type": "execute_result",
          "data": {
            "text/plain": [
              "'b'"
            ],
            "application/vnd.google.colaboratory.intrinsic+json": {
              "type": "string"
            }
          },
          "metadata": {},
          "execution_count": 25
        }
      ]
    },
    {
      "cell_type": "code",
      "source": [],
      "metadata": {
        "id": "EzGu7qXr7uV5"
      },
      "execution_count": null,
      "outputs": []
    },
    {
      "cell_type": "markdown",
      "source": [
        "## version 2 of jack's"
      ],
      "metadata": {
        "id": "Eeo6dvGiCQ3c"
      }
    },
    {
      "cell_type": "code",
      "source": [
        "# %%time\n",
        "\n",
        "# 1 init\n",
        "V = np.random.uniform(size=(21,21))\n",
        "A = np.arange(-5,6)\n",
        "policy=np.zeros_like(V)\n",
        "print(f\"{V[:5,:5]=} \\n\\n {policy[:5,:5]=}\")\n",
        "\n",
        "\n",
        "transition_R = np.zeros_like(V)\n",
        "\n",
        "rental_request_lambdas=(3,4)\n",
        "car_return_lambdas = (3,2)\n",
        "gamma = 0.9\n",
        "\n",
        "# 2 \n",
        "delta_theshold = 3\n",
        "\n",
        "delta = delta_theshold + 1\n",
        "\n",
        "# P_new_state = get_prob_per_new_state(s_after_action, \n",
        "#                                       rental_request_lambdas, \n",
        "#                                       car_return_lambdas)\n",
        "\n",
        "morn_to_eve_state_trans_matrices = {}\n",
        "expected_rental_Rs = {}\n",
        "for s in np.ndindex(V.shape):\n",
        "  morn_to_eve_state_trans_matrices[s] = get_prob_per_new_state(s, \n",
        "                                      rental_request_lambdas, \n",
        "                                      car_return_lambdas)\n",
        "  \n",
        "\n",
        "  expected_rental_Rs[s] = get_expected_R(s, rental_request_lambdas)\n",
        "\n",
        "def q_s_a_2(s, action ):\n",
        "    s_after_action = get_s_after_action(s, action)\n",
        "    second_parking_lot_R = np.array([-4 for cars in s_after_action if cars > 10]).sum()\n",
        "    expected_rental_R = expected_rental_Rs[s_after_action]\n",
        "    P_new_state = morn_to_eve_state_trans_matrices[s_after_action]\n",
        "    expected_V_new_state = (V*P_new_state).sum()\n",
        "    if action < 0:\n",
        "      action_R = 2*action\n",
        "    else:\n",
        "      action_R = -2 * max(0, action -1)\n",
        "    return expected_rental_R + action_R + second_parking_lot_R + gamma * expected_V_new_state\n",
        "\n",
        "# while delta >= delta_theshold:\n",
        "def value_improvement(V, policy):\n",
        "  delta = 100\n",
        "  while delta > .5:\n",
        "    delta = 0\n",
        "    # for s in [(19,1)]:\n",
        "    for s in np.random.permutation(list(np.ndindex(V.shape))):\n",
        "      s = tuple(s)\n",
        "      v = V[s]\n",
        "\n",
        "      action = policy[s]\n",
        "      # s_after_action = get_s_after_action(s, action)\n",
        "\n",
        "      # expected_rental_R = expected_rental_Rs[s_after_action]\n",
        "      # P_new_state = morn_to_eve_state_trans_matrices[s_after_action]\n",
        "\n",
        "      # expected_V_new_state = (V*P_new_state).sum()\n",
        "      #expected_rental_R + get_action_R(action) + gamma * expected_V_new_state\n",
        "\n",
        "      # because deterministic\n",
        "      V[s] =  q_s_a_2(s, action) \n",
        "\n",
        "      delta = max(delta, abs(v-V[s]))\n",
        "\n",
        "    print(f\"sanity: {delta=}\")\n",
        "  return V\n",
        "\n",
        "\n",
        "print(f\"{V[:8,:8]=} \\n\\n {policy[:8,:8]=}\")\n",
        "\n",
        "\n",
        "# 3\n",
        "# while delta >= delta_theshold:\n",
        "def policy_improvement(V, policy):\n",
        "  policy_stable = False\n",
        "  while policy_stable == False:\n",
        "    changes = 0\n",
        "    policy_stable = True\n",
        "    for s in np.random.permutation(list(np.ndindex(V.shape))):\n",
        "      s = tuple(s)\n",
        "      old_a = policy[s]\n",
        "      qs = {a : q_s_a_2(s, a) for a in get_action_space(s)}\n",
        "      if qs[old_a] != max(qs.values()):\n",
        "        policy_stable = False\n",
        "        changes += 1 \n",
        "        policy[s] = max(qs, key=qs.get)\n",
        "\n",
        "    print(f\"sanity: {policy_stable}, {changes=}\")\n",
        "\n",
        "  return policy\n",
        "\n",
        "Vs = []\n",
        "policies = []\n",
        "V_i = V\n",
        "policy_i = policy\n",
        "for _ in range(7):\n",
        "  V_i = value_improvement(V, policy)\n",
        "  Vs.append(V_i)\n",
        "\n",
        "  policy_i = policy_improvement(V, policy)\n",
        "  policies.append(policy_i) \n",
        "\n",
        "\n",
        "\n",
        "\n",
        "\n",
        "\n",
        "plt.contour(X, Y, policies[-1], colors='black');\n",
        "      \n",
        "\n",
        "\n",
        "\n"
      ],
      "metadata": {
        "id": "hQR0l1YMCTVl",
        "outputId": "1767fefa-8dc6-4e92-d458-b0da632e0b93",
        "colab": {
          "base_uri": "https://localhost:8080/",
          "height": 1000
        }
      },
      "execution_count": 52,
      "outputs": [
        {
          "output_type": "stream",
          "name": "stdout",
          "text": [
            "V[:5,:5]=array([[0.83081426, 0.50248787, 0.93042356, 0.43056093, 0.68426734],\n",
            "       [0.03928846, 0.41336848, 0.10208633, 0.02367386, 0.7968245 ],\n",
            "       [0.62200981, 0.21718419, 0.71420778, 0.57387551, 0.21114921],\n",
            "       [0.71179398, 0.53907853, 0.69231792, 0.69514204, 0.53421065],\n",
            "       [0.27260061, 0.40723225, 0.55441348, 0.97564615, 0.41474484]]) \n",
            "\n",
            " policy[:5,:5]=array([[0., 0., 0., 0., 0.],\n",
            "       [0., 0., 0., 0., 0.],\n",
            "       [0., 0., 0., 0., 0.],\n",
            "       [0., 0., 0., 0., 0.],\n",
            "       [0., 0., 0., 0., 0.]])\n",
            "V[:8,:8]=array([[0.83081426, 0.50248787, 0.93042356, 0.43056093, 0.68426734,\n",
            "        0.21769914, 0.71210126, 0.25795974],\n",
            "       [0.03928846, 0.41336848, 0.10208633, 0.02367386, 0.7968245 ,\n",
            "        0.17352977, 0.99165525, 0.40617372],\n",
            "       [0.62200981, 0.21718419, 0.71420778, 0.57387551, 0.21114921,\n",
            "        0.85598216, 0.65136277, 0.21476709],\n",
            "       [0.71179398, 0.53907853, 0.69231792, 0.69514204, 0.53421065,\n",
            "        0.43897852, 0.02761455, 0.32574313],\n",
            "       [0.27260061, 0.40723225, 0.55441348, 0.97564615, 0.41474484,\n",
            "        0.09606294, 0.17440802, 0.06794769],\n",
            "       [0.41325499, 0.58700579, 0.06516187, 0.64148185, 0.82674606,\n",
            "        0.42654176, 0.44881075, 0.28265416],\n",
            "       [0.76722833, 0.63129245, 0.71928856, 0.50014389, 0.83504796,\n",
            "        0.27905341, 0.05000718, 0.94581139],\n",
            "       [0.33345214, 0.31752178, 0.112658  , 0.16739727, 0.70322513,\n",
            "        0.94678214, 0.53496022, 0.91023819]]) \n",
            "\n",
            " policy[:8,:8]=array([[0., 0., 0., 0., 0., 0., 0., 0.],\n",
            "       [0., 0., 0., 0., 0., 0., 0., 0.],\n",
            "       [0., 0., 0., 0., 0., 0., 0., 0.],\n",
            "       [0., 0., 0., 0., 0., 0., 0., 0.],\n",
            "       [0., 0., 0., 0., 0., 0., 0., 0.],\n",
            "       [0., 0., 0., 0., 0., 0., 0., 0.],\n",
            "       [0., 0., 0., 0., 0., 0., 0., 0.],\n",
            "       [0., 0., 0., 0., 0., 0., 0., 0.]])\n",
            "sanity: delta=132.15466521132305\n",
            "sanity: delta=135.02805120071736\n",
            "sanity: delta=109.93592756392758\n",
            "sanity: delta=90.98535564944842\n",
            "sanity: delta=80.06116657824981\n",
            "sanity: delta=65.7695716295986\n",
            "sanity: delta=55.21473403046366\n",
            "sanity: delta=47.472389936101706\n",
            "sanity: delta=40.61046770271287\n",
            "sanity: delta=32.38806670513691\n",
            "sanity: delta=28.15908727907879\n",
            "sanity: delta=23.87345004270952\n",
            "sanity: delta=19.662563051760003\n",
            "sanity: delta=16.709310752574652\n",
            "sanity: delta=14.164371766722013\n",
            "sanity: delta=12.240858708919404\n",
            "sanity: delta=10.3498273243614\n",
            "sanity: delta=8.3021407127859\n",
            "sanity: delta=6.959680869375177\n",
            "sanity: delta=6.043639784170239\n",
            "sanity: delta=4.914497647464316\n",
            "sanity: delta=4.1740269945619275\n",
            "sanity: delta=3.654809489128297\n",
            "sanity: delta=3.1010481937962595\n",
            "sanity: delta=2.5776509590614296\n",
            "sanity: delta=2.0947023192325105\n",
            "sanity: delta=1.818418539016875\n",
            "sanity: delta=1.5515903291226323\n",
            "sanity: delta=1.3536030538156183\n",
            "sanity: delta=1.0908538454073096\n",
            "sanity: delta=0.9173051860741452\n",
            "sanity: delta=0.775442243348607\n",
            "sanity: delta=0.6415361822710111\n",
            "sanity: delta=0.5656555118416691\n",
            "sanity: delta=0.44959397544573676\n",
            "sanity: False, changes=345\n",
            "sanity: True, changes=0\n",
            "sanity: delta=44.06025662820957\n",
            "sanity: delta=10.085101630232543\n",
            "sanity: delta=4.6316355381420635\n",
            "sanity: delta=3.66606072148204\n",
            "sanity: delta=3.2303393039845787\n",
            "sanity: delta=2.5762224450490976\n",
            "sanity: delta=2.1914046883821356\n",
            "sanity: delta=1.768438484644662\n",
            "sanity: delta=1.5204465126338391\n",
            "sanity: delta=1.2408072960806749\n",
            "sanity: delta=1.0723735554884115\n",
            "sanity: delta=0.9192963333474609\n",
            "sanity: delta=0.7675576155886574\n",
            "sanity: delta=0.629341855411667\n",
            "sanity: delta=0.5265527446184137\n",
            "sanity: delta=0.43996701270248195\n",
            "sanity: False, changes=171\n",
            "sanity: True, changes=0\n",
            "sanity: delta=3.3166895079325514\n",
            "sanity: delta=1.4255213833207563\n",
            "sanity: delta=0.9052957186511321\n",
            "sanity: delta=0.6606885829187377\n",
            "sanity: delta=0.6024874118354546\n",
            "sanity: delta=0.5127881319458538\n",
            "sanity: delta=0.35781122289495215\n",
            "sanity: False, changes=33\n",
            "sanity: True, changes=0\n",
            "sanity: delta=0.83351250260489\n",
            "sanity: delta=0.3000098653678833\n",
            "sanity: False, changes=2\n",
            "sanity: True, changes=0\n",
            "sanity: delta=0.23260187727373705\n",
            "sanity: False, changes=2\n",
            "sanity: True, changes=0\n",
            "sanity: delta=0.19269461523845166\n",
            "sanity: True, changes=0\n",
            "sanity: delta=0.15608087619830258\n",
            "sanity: True, changes=0\n"
          ]
        },
        {
          "output_type": "display_data",
          "data": {
            "text/plain": [
              "<Figure size 432x288 with 1 Axes>"
            ],
            "image/png": "[encoded data removed]"
          },
          "metadata": {
            "needs_background": "light"
          }
        }
      ]
    },
    {
      "cell_type": "code",
      "source": [],
      "metadata": {
        "id": "Jg22WY2RCTJk"
      },
      "execution_count": null,
      "outputs": []
    },
    {
      "cell_type": "code",
      "source": [],
      "metadata": {
        "id": "Mc-qwtazCTHP"
      },
      "execution_count": null,
      "outputs": []
    },
    {
      "cell_type": "markdown",
      "source": [
        "## 4.9"
      ],
      "metadata": {
        "id": "TWcfOF90TpT6"
      }
    },
    {
      "cell_type": "code",
      "source": [
        "list(np.ndindex(V.shape))"
      ],
      "metadata": {
        "id": "OOcWxGF2VMGj",
        "outputId": "24d2f312-f169-4ce0-85be-7099e47a9df9",
        "colab": {
          "base_uri": "https://localhost:8080/"
        }
      },
      "execution_count": 7,
      "outputs": [
        {
          "output_type": "execute_result",
          "data": {
            "text/plain": [
              "[(0,),\n",
              " (1,),\n",
              " (2,),\n",
              " (3,),\n",
              " (4,),\n",
              " (5,),\n",
              " (6,),\n",
              " (7,),\n",
              " (8,),\n",
              " (9,),\n",
              " (10,),\n",
              " (11,),\n",
              " (12,),\n",
              " (13,),\n",
              " (14,),\n",
              " (15,),\n",
              " (16,),\n",
              " (17,),\n",
              " (18,),\n",
              " (19,),\n",
              " (20,),\n",
              " (21,),\n",
              " (22,),\n",
              " (23,),\n",
              " (24,),\n",
              " (25,),\n",
              " (26,),\n",
              " (27,),\n",
              " (28,),\n",
              " (29,),\n",
              " (30,),\n",
              " (31,),\n",
              " (32,),\n",
              " (33,),\n",
              " (34,),\n",
              " (35,),\n",
              " (36,),\n",
              " (37,),\n",
              " (38,),\n",
              " (39,),\n",
              " (40,),\n",
              " (41,),\n",
              " (42,),\n",
              " (43,),\n",
              " (44,),\n",
              " (45,),\n",
              " (46,),\n",
              " (47,),\n",
              " (48,),\n",
              " (49,),\n",
              " (50,),\n",
              " (51,),\n",
              " (52,),\n",
              " (53,),\n",
              " (54,),\n",
              " (55,),\n",
              " (56,),\n",
              " (57,),\n",
              " (58,),\n",
              " (59,),\n",
              " (60,),\n",
              " (61,),\n",
              " (62,),\n",
              " (63,),\n",
              " (64,),\n",
              " (65,),\n",
              " (66,),\n",
              " (67,),\n",
              " (68,),\n",
              " (69,),\n",
              " (70,),\n",
              " (71,),\n",
              " (72,),\n",
              " (73,),\n",
              " (74,),\n",
              " (75,),\n",
              " (76,),\n",
              " (77,),\n",
              " (78,),\n",
              " (79,),\n",
              " (80,),\n",
              " (81,),\n",
              " (82,),\n",
              " (83,),\n",
              " (84,),\n",
              " (85,),\n",
              " (86,),\n",
              " (87,),\n",
              " (88,),\n",
              " (89,),\n",
              " (90,),\n",
              " (91,),\n",
              " (92,),\n",
              " (93,),\n",
              " (94,),\n",
              " (95,),\n",
              " (96,),\n",
              " (97,),\n",
              " (98,),\n",
              " (99,),\n",
              " (100,)]"
            ]
          },
          "metadata": {},
          "execution_count": 7
        }
      ]
    },
    {
      "cell_type": "code",
      "source": [
        "get_action_space(99)"
      ],
      "metadata": {
        "id": "_DaxVXtmZjfk",
        "outputId": "fb2f702c-5d6a-4b8d-f3bc-0f6f41a80207",
        "colab": {
          "base_uri": "https://localhost:8080/"
        }
      },
      "execution_count": 20,
      "outputs": [
        {
          "output_type": "execute_result",
          "data": {
            "text/plain": [
              "array([0, 1])"
            ]
          },
          "metadata": {},
          "execution_count": 20
        }
      ]
    },
    {
      "cell_type": "code",
      "source": [
        "p_head = 0.4\n",
        "\n",
        "# def get_gamblers_problem(p_head=0.4):\n",
        "S = np.arange(101)\n",
        "V = np.random.uniform(size=S.shape)\n",
        "V[0] = 0\n",
        "V[100] = 1\n",
        "\n",
        "def get_action_space(s):\n",
        "  return np.arange(1,min(s,100-s)+1)\n",
        "\n",
        "def q(s,a, V):\n",
        "  return p_head * V[s + a] + (1-p_head)*V[s-a]\n",
        "\n",
        "theta = 0.1\n",
        "for _ in range(200):\n",
        "  delta = 0\n",
        "  # for s in np.random.permutation(list(np.ndindex(V.shape))):\n",
        "  for s in np.random.permutation(np.arange(1,100)):\n",
        "    v = V[s]\n",
        "    qs = [q(s,a, V) for a in get_action_space(s)]\n",
        "    V[s] = max(qs)\n",
        "    delta = max(delta, abs(v-V[s]))\n",
        "  # print(f\"{delta=}\")\n",
        "print(V[50])\n",
        "V"
      ],
      "metadata": {
        "id": "RUQeP1n5dUCL",
        "outputId": "7d930a3b-fd80-4048-aada-e30a0740c98d",
        "colab": {
          "base_uri": "https://localhost:8080/"
        }
      },
      "execution_count": 42,
      "outputs": [
        {
          "output_type": "stream",
          "name": "stdout",
          "text": [
            "0.4\n"
          ]
        },
        {
          "output_type": "execute_result",
          "data": {
            "text/plain": [
              "array([0.        , 0.00217126, 0.00542815, 0.00956529, 0.01357037,\n",
              "       0.01921324, 0.02391323, 0.02827066, 0.0335699 , 0.04035955,\n",
              "       0.04769137, 0.05346112, 0.05953261, 0.06562124, 0.07067666,\n",
              "       0.07688342, 0.08392476, 0.09155278, 0.09988888, 0.1091297 ,\n",
              "       0.11793628, 0.12621303, 0.13365279, 0.14064547, 0.14883153,\n",
              "       0.16      , 0.16385218, 0.16963046, 0.17645587, 0.18407615,\n",
              "       0.19181476, 0.20113966, 0.2098119 , 0.21885737, 0.22783804,\n",
              "       0.23797103, 0.24972219, 0.26108876, 0.27282424, 0.28298823,\n",
              "       0.29484071, 0.30476237, 0.31553258, 0.32504821, 0.33413199,\n",
              "       0.34319344, 0.35156579, 0.36131866, 0.37093948, 0.38324729,\n",
              "       0.4       , 0.40397859, 0.40963046, 0.41645587, 0.42407615,\n",
              "       0.43220854, 0.44113966, 0.4498119 , 0.45885737, 0.46832276,\n",
              "       0.4795369 , 0.48972219, 0.50108876, 0.51282424, 0.52298823,\n",
              "       0.53484071, 0.54714343, 0.5561241 , 0.5695951 , 0.57972809,\n",
              "       0.59492757, 0.60667873, 0.62430547, 0.63567204, 0.6527219 ,\n",
              "       0.66445738, 0.67618087, 0.69376612, 0.70747057, 0.71932305,\n",
              "       0.73710178, 0.74702344, 0.76190594, 0.77267614, 0.78883145,\n",
              "       0.79834707, 0.80799008, 0.82245458, 0.83532997, 0.84439142,\n",
              "       0.85345912, 0.86706068, 0.87570335, 0.88866735, 0.90119798,\n",
              "       0.91479016, 0.92542201, 0.94071879, 0.95640921, 0.97487094,\n",
              "       1.        ])"
            ]
          },
          "metadata": {},
          "execution_count": 42
        }
      ]
    },
    {
      "cell_type": "code",
      "source": [
        "from numba import njit\n",
        "p_head = 0.4\n",
        "\n",
        "@njit\n",
        "def q(s,a, V, p_head):\n",
        "  return p_head * V[s + a] + (1-p_head)*V[s-a]\n",
        "\n",
        "@njit\n",
        "def get_gamblers_problem(p_head=0.4):\n",
        "\n",
        "\n",
        "\n",
        "  S = np.arange(101)\n",
        "  # V = np.random.uniform(size=S.shape)\n",
        "  V = np.array([np.random.random() for _ in np.arange(101)])\n",
        "  V[0] = 0\n",
        "  V[100] = 1\n",
        "\n",
        "  def get_action_space(s):\n",
        "    return np.arange(1,min(s,100-s)+1)\n",
        "\n",
        "\n",
        "\n",
        "  theta = 0.1\n",
        "  for _ in range(300000):\n",
        "    delta = 0\n",
        "    # for s in np.random.permutation(list(np.ndindex(V.shape))):\n",
        "    for s in np.random.permutation(np.arange(1,100)):\n",
        "      v = V[s]\n",
        "      qs = [q(s,a, V, p_head) for a in get_action_space(s)]\n",
        "      V[s] = max(qs)\n",
        "      delta = max(delta, abs(v-V[s]))\n",
        "    # print(f\"{delta=}\")\n",
        "\n",
        "  policy = np.zeros_like(S)\n",
        "  for s in np.arange(1,100):\n",
        "    qs = np.array([q(s,a,V, p_head) for a in get_action_space(s)])\n",
        "    policy[s] = np.argmax(qs)\n",
        "\n",
        "  # policy = np.array([q(s, a, V) for s in np.arange(1,100)])\n",
        "  return V, policy, \n",
        "\n",
        "V2, policy2 = get_gamblers_problem(.01)"
      ],
      "metadata": {
        "id": "KhyU6TJ0CTE0"
      },
      "execution_count": 120,
      "outputs": []
    },
    {
      "cell_type": "code",
      "source": [
        "# q(50, 50, V)\n",
        "V2[50]"
      ],
      "metadata": {
        "id": "IRmDfq5uCShW",
        "outputId": "42088663-1453-48b6-bafb-86a4e108ecae",
        "colab": {
          "base_uri": "https://localhost:8080/"
        }
      },
      "execution_count": 121,
      "outputs": [
        {
          "output_type": "execute_result",
          "data": {
            "text/plain": [
              "0.01"
            ]
          },
          "metadata": {},
          "execution_count": 121
        }
      ]
    },
    {
      "cell_type": "code",
      "source": [
        "import matplotlib.pyplot as plt\n",
        "\n",
        "plt.plot(policy2)\n",
        "\n"
      ],
      "metadata": {
        "id": "RhK7SonraW8j",
        "outputId": "88a41688-d87b-476a-a2a7-31ca92cbc07f",
        "colab": {
          "base_uri": "https://localhost:8080/",
          "height": 282
        }
      },
      "execution_count": 122,
      "outputs": [
        {
          "output_type": "execute_result",
          "data": {
            "text/plain": [
              "[<matplotlib.lines.Line2D at 0x7fb136408eb0>]"
            ]
          },
          "metadata": {},
          "execution_count": 122
        },
        {
          "output_type": "display_data",
          "data": {
            "text/plain": [
              "<Figure size 432x288 with 1 Axes>"
            ],
            "image/png": "[encoded data removed]"
          },
          "metadata": {
            "needs_background": "light"
          }
        }
      ]
    },
    {
      "cell_type": "code",
      "source": [
        "plt.plot(V2)"
      ],
      "metadata": {
        "id": "2G9uJWXbeEEA",
        "outputId": "c37c9cf6-8867-46cd-9432-26cb68bf1aa2",
        "colab": {
          "base_uri": "https://localhost:8080/",
          "height": 282
        }
      },
      "execution_count": 123,
      "outputs": [
        {
          "output_type": "execute_result",
          "data": {
            "text/plain": [
              "[<matplotlib.lines.Line2D at 0x7fb135a0dc70>]"
            ]
          },
          "metadata": {},
          "execution_count": 123
        },
        {
          "output_type": "display_data",
          "data": {
            "text/plain": [
              "<Figure size 432x288 with 1 Axes>"
            ],
            "image/png": "[encoded data removed]"
          },
          "metadata": {
            "needs_background": "light"
          }
        }
      ]
    },
    {
      "cell_type": "code",
      "source": [
        "V3, policy3 = get_gamblers_problem(.51)\n",
        "\n",
        "plt.plot(policy3)"
      ],
      "metadata": {
        "id": "Uw__56b2ecgj",
        "outputId": "213e06b8-3764-4f76-a95f-75d0d7482f2e",
        "colab": {
          "base_uri": "https://localhost:8080/",
          "height": 282
        }
      },
      "execution_count": 124,
      "outputs": [
        {
          "output_type": "execute_result",
          "data": {
            "text/plain": [
              "[<matplotlib.lines.Line2D at 0x7fb135b3caf0>]"
            ]
          },
          "metadata": {},
          "execution_count": 124
        },
        {
          "output_type": "display_data",
          "data": {
            "text/plain": [
              "<Figure size 432x288 with 1 Axes>"
            ],
            "image/png": "[encoded data removed]"
          },
          "metadata": {
            "needs_background": "light"
          }
        }
      ]
    },
    {
      "cell_type": "code",
      "source": [
        "plt.plot(V3)"
      ],
      "metadata": {
        "id": "eAGV2x0-iKlD",
        "outputId": "61277130-8b2f-424b-d9c4-470d5524288a",
        "colab": {
          "base_uri": "https://localhost:8080/",
          "height": 282
        }
      },
      "execution_count": 125,
      "outputs": [
        {
          "output_type": "execute_result",
          "data": {
            "text/plain": [
              "[<matplotlib.lines.Line2D at 0x7fb135fa7d90>]"
            ]
          },
          "metadata": {},
          "execution_count": 125
        },
        {
          "output_type": "display_data",
          "data": {
            "text/plain": [
              "<Figure size 432x288 with 1 Axes>"
            ],
            "image/png": "[encoded data removed]"
          },
          "metadata": {
            "needs_background": "light"
          }
        }
      ]
    },
    {
      "cell_type": "code",
      "source": [],
      "metadata": {
        "id": "v4Dq5bQhiMVb"
      },
      "execution_count": null,
      "outputs": []
    }
  ]
}