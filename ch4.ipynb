{
  "nbformat": 4,
  "nbformat_minor": 0,
  "metadata": {
    "colab": {
      "provenance": [],
      "authorship_tag": "ABX9TyM3Avu/FRPqJYtSEKhKOfvx",
      "include_colab_link": true
    },
    "kernelspec": {
      "name": "python3",
      "display_name": "Python 3"
    },
    "language_info": {
      "name": "python"
    }
  },
  "cells": [
    {
      "cell_type": "markdown",
      "metadata": {
        "id": "view-in-github",
        "colab_type": "text"
      },
      "source": [
        "<a href=\"https://colab.research.google.com/github/keesterbrugge/rl_intro_sutton/blob/main/ch4.ipynb\" target=\"_parent\"><img src=\"https://colab.research.google.com/assets/colab-badge.svg\" alt=\"Open In Colab\"/></a>"
      ]
    },
    {
      "cell_type": "code",
      "execution_count": null,
      "metadata": {
        "id": "f4-F3KzkRT7s"
      },
      "outputs": [],
      "source": []
    },
    {
      "cell_type": "markdown",
      "source": [
        "Example 4.2: Jack’s Car Rental Jack manages two locations for a nationwide car\n",
        "rental company. Each day, some number of customers arrive at each location to rent cars.\n",
        "If Jack has a car available, he rents it out and is credited 10 by the national company.\n",
        "If he is out of cars at that location, then the business is lost. Cars become available for\n",
        "renting the day after they are returned. To help ensure that cars are available where\n",
        "they are needed, Jack can move them between the two locations overnight, at a cost of\n",
        "$2 per car moved. We assume that the number of cars requested and returned at each\n",
        "location are Poisson random variables, meaning that the probability that the number is n is \u0000n e\u0000\u0000, where \u0000 is the expected number. Suppose \u0000 is 3 and 4 for rental requests at n!\n",
        "the first and second locations and 3 and 2 for returns. To simplify the problem slightly, we assume that there can be no more than 20 cars at each location (any additional cars are returned to the nationwide company, and thus disappear from the problem) and a\n",
        "maximum of five cars can be moved from one location to the other in one night. We take the discount rate to be \u0000 = 0.9 and formulate this as a continuing finite MDP, where the time steps are days, the state is the number of cars at each location at the end of the day, and the actions are the net numbers of cars moved between the two locations overnight. Figure 4.2 shows the sequence of policies found by policy iteration starting from the policy that never moves any cars."
      ],
      "metadata": {
        "id": "aMwYBRpWXCzZ"
      }
    },
    {
      "cell_type": "code",
      "source": [
        "from scipy.stats import poisson\n",
        "import numpy as np\n",
        "import numba as nb\n",
        "# poisson([1,3,4,5]).pmf(k=np.array([4, 5]).T)\n",
        "# poisson.pmf(mu=np.array([3,4]),k=np.array([4, 5]), size=(2,2))"
      ],
      "metadata": {
        "id": "zFnE1FVvbhnN"
      },
      "execution_count": 118,
      "outputs": []
    },
    {
      "cell_type": "code",
      "source": [
        "\n",
        "\n",
        "\n",
        "\n",
        "def get_new_V(s, gamma = .9):\n",
        "  \"\"\"\n",
        "  state update consists of\n",
        "  - stochastic amount of new cars at each location (3 and 2)\n",
        "  - stochastic amount of car rental requests (3 and 4)\n",
        "  - deterministic change in amount of cars based on choice to move from 1 loc to another\n",
        "  \n",
        "  Reward signal:\n",
        "  - deterministically based on action (- 2 dollar per moved car)\n",
        "  - deterministic based on amount of rentals (10 per rented car)\n",
        "  \"\"\"\n",
        "\n",
        "  # don't have to loop over actions, cause policy is deterministc\n",
        "  # loop over all state transitions \n"
      ],
      "metadata": {
        "id": "tm3iISy8sJWD"
      },
      "execution_count": null,
      "outputs": []
    },
    {
      "cell_type": "code",
      "source": [],
      "metadata": {
        "colab": {
          "base_uri": "https://localhost:8080/"
        },
        "id": "LcKQmuBs9Ibr",
        "outputId": "afb5ae58-838e-42b3-b90b-0963a1a42bdb"
      },
      "execution_count": 29,
      "outputs": [
        {
          "output_type": "stream",
          "name": "stderr",
          "text": [
            "<ipython-input-29-fab789a404ec>:1: VisibleDeprecationWarning: Creating an ndarray from ragged nested sequences (which is a list-or-tuple of lists-or-tuples-or ndarrays with different lengths or shapes) is deprecated. If you meant to do this, you must specify 'dtype=object' when creating the ndarray.\n",
            "  np.array([(2,3), 2])\n"
          ]
        },
        {
          "output_type": "execute_result",
          "data": {
            "text/plain": [
              "array([(2, 3), 2], dtype=object)"
            ]
          },
          "metadata": {},
          "execution_count": 29
        }
      ]
    },
    {
      "cell_type": "code",
      "source": [
        "r(s_prime, pi(s), s) \n",
        "allowable_a = clip(a)\n",
        "morning_s = s + allowable_a\n",
        "a_allowed"
      ],
      "metadata": {
        "id": "CD7_MGraBYSU"
      },
      "execution_count": null,
      "outputs": []
    },
    {
      "cell_type": "code",
      "source": [
        "tuple(np.array([3,3]))"
      ],
      "metadata": {
        "colab": {
          "base_uri": "https://localhost:8080/"
        },
        "id": "in-aM8tOHF_5",
        "outputId": "09806d8b-533a-41a0-ba2e-3dd1aaa857a1"
      },
      "execution_count": 44,
      "outputs": [
        {
          "output_type": "execute_result",
          "data": {
            "text/plain": [
              "(3, 3)"
            ]
          },
          "metadata": {},
          "execution_count": 44
        }
      ]
    },
    {
      "cell_type": "code",
      "source": [
        "np.array((2,3))"
      ],
      "metadata": {
        "colab": {
          "base_uri": "https://localhost:8080/"
        },
        "id": "CpMNfDnyHWUy",
        "outputId": "0b487726-306f-4bae-fec6-2f0ac6eb321e"
      },
      "execution_count": 45,
      "outputs": [
        {
          "output_type": "execute_result",
          "data": {
            "text/plain": [
              "array([2, 3])"
            ]
          },
          "metadata": {},
          "execution_count": 45
        }
      ]
    },
    {
      "cell_type": "code",
      "source": [
        "s = (2,3)\n",
        "(s[0] + (-2, 3)"
      ],
      "metadata": {
        "colab": {
          "base_uri": "https://localhost:8080/"
        },
        "id": "_E9XkWkGG5fW",
        "outputId": "b78e1d80-62df-4537-af30-045a4060dc46"
      },
      "execution_count": 39,
      "outputs": [
        {
          "output_type": "execute_result",
          "data": {
            "text/plain": [
              "(2, 3, -2, 3)"
            ]
          },
          "metadata": {},
          "execution_count": 39
        }
      ]
    },
    {
      "cell_type": "code",
      "source": [
        "def get_r(s,a):\n",
        "  reward_action = - 2 * abs(a)\n",
        "  s_after_action = np.clip(np.array(s) + np.array([-a, a]) a_min=0, a_max=20)\n",
        "  mor"
      ],
      "metadata": {
        "id": "fYfgbjmGGYUr"
      },
      "execution_count": null,
      "outputs": []
    },
    {
      "cell_type": "code",
      "source": [
        "lam = 3\n",
        "def poisson_pmf(lam, k):\n",
        "  return lam ** k  / \n",
        "[]"
      ],
      "metadata": {
        "id": "ftmKGJC6v_5h"
      },
      "execution_count": null,
      "outputs": []
    },
    {
      "cell_type": "code",
      "source": [
        "@numba.jit(nopython=True)\n",
        "def trunc_poisson_jit(mu, k, k_max):\n",
        "  "
      ],
      "metadata": {
        "id": "wga7O6xVvzGr"
      },
      "execution_count": null,
      "outputs": []
    },
    {
      "cell_type": "code",
      "source": [
        "\n",
        "def trunc_poisson(mu, k, k_max):  \n",
        "    if k < k_max: \n",
        "      p = poisson.pmf(mu=3, k=k)\n",
        "    elif (k == k_max):\n",
        "      p = poisson.sf(mu=3, k = k-1)\n",
        "    else:\n",
        "      p = 0.0\n",
        "    return p\n",
        "\n",
        "def get_p_s_prime_1loc(cars_start, rental_req_lambda, car_returns_lambda):\n",
        "\n",
        "  max_cars = 20\n",
        "  p_s_prime_1loc = np.zeros(max_cars+1)\n",
        "\n",
        "  for cars_rented_out in np.arange(cars_start+1):\n",
        "    p_cars_rented_out = trunc_poisson(mu=rental_req_lambda, k=cars_rented_out, k_max=cars_start)\n",
        "\n",
        "    cars_after_renting_out = cars_start - cars_rented_out\n",
        "    max_new_cars = max_cars - cars_after_renting_out\n",
        "\n",
        "    for cars_arrived in np.arange(max_new_cars+1):\n",
        "\n",
        "      p_cars_arrived = trunc_poisson(mu=car_returns_lambda, k=cars_arrived, k_max=max_new_cars)\n",
        "      cars_end = cars_after_renting_out + cars_arrived\n",
        "      p_state_transition = p_cars_rented_out * p_cars_arrived\n",
        "      p_s_prime_1loc[cars_end] += p_state_transition\n",
        "\n",
        "  return p_s_prime_1loc"
      ],
      "metadata": {
        "id": "6HIL249QPADV"
      },
      "execution_count": 131,
      "outputs": []
    },
    {
      "cell_type": "code",
      "source": [
        "def get_prob_per_new_state(s, rental_request_lambdas, car_returns_lambdas):\n",
        "  return np.outer(*[get_p_s_prime_1loc(s[i], rental_request_lambdas[i], car_returns_lambdas[i]) for i in [0, 1]])\n",
        "\n",
        "get_prob_per_new_state((10,10), (3,4), (3,2)).sum()"
      ],
      "metadata": {
        "colab": {
          "base_uri": "https://localhost:8080/"
        },
        "id": "cNsuyhxNTU2-",
        "outputId": "403f8d1f-1385-469b-a1b0-3f536d6e5dc7"
      },
      "execution_count": 82,
      "outputs": [
        {
          "output_type": "execute_result",
          "data": {
            "text/plain": [
              "1.0000000000000004"
            ]
          },
          "metadata": {},
          "execution_count": 82
        }
      ]
    },
    {
      "cell_type": "code",
      "source": [
        "gamma = 0.9\n",
        "max_cars=20\n",
        "V = np.zeros((max_cars+1,max_cars+1))\n",
        "(gamma*V*p_s_prime).sum()"
      ],
      "metadata": {
        "colab": {
          "base_uri": "https://localhost:8080/"
        },
        "id": "oCGIl80EUJrb",
        "outputId": "f1ec063b-7553-4d9c-9477-5a9c49e292d2"
      },
      "execution_count": 73,
      "outputs": [
        {
          "output_type": "execute_result",
          "data": {
            "text/plain": [
              "0.0"
            ]
          },
          "metadata": {},
          "execution_count": 73
        }
      ]
    },
    {
      "cell_type": "code",
      "source": [
        "\n",
        "def get_expected_R(s, rental_request_lambdas):\n",
        "  expected_cars_rented_out = 0\n",
        "  for cars_start, rental_req_lambda in zip(s, rental_request_lambdas):\n",
        "    expected_cars_rented_out += np.array(\n",
        "        [cars_rented_out * trunc_poisson(mu=rental_req_lambda, \n",
        "                                        k=cars_rented_out, \n",
        "                                        k_max=cars_start) \n",
        "        for cars_rented_out in np.arange(cars_start+1)]).sum()\n",
        "\n",
        "    \n",
        "  return 10 * expected_cars_rented_out\n",
        "\n",
        "get_expected_R(s=(3,3), rental_request_lambdas=(4,3))"
      ],
      "metadata": {
        "colab": {
          "base_uri": "https://localhost:8080/"
        },
        "id": "xileeMqlVuc9",
        "outputId": "2c59270d-ad33-481b-8cee-b67b994cf41f"
      },
      "execution_count": 83,
      "outputs": [
        {
          "output_type": "execute_result",
          "data": {
            "text/plain": [
              "46.55749154067674"
            ]
          },
          "metadata": {},
          "execution_count": 83
        }
      ]
    },
    {
      "cell_type": "code",
      "source": [
        "def get_r(s,a):\n",
        "  np.array(for cars_start in s:\n"
      ],
      "metadata": {
        "id": "kVq86YxvVbP6"
      },
      "execution_count": null,
      "outputs": []
    },
    {
      "cell_type": "code",
      "source": [
        "\n",
        "def (s, policy, V)\n",
        "\n",
        "s = (10,10)\n",
        "action = policy[s]\n",
        "reward_action = - 2 * abs(a)\n",
        "s_after_action = np.clip(np.array(s) + np.array([-a, a]) a_min=0, a_max=20)\n",
        "\n",
        "cars_end_of_day = 7\n",
        "action = -3\n",
        "cars_start = cars_end_of_day + action\n",
        "\n",
        "max_cars = 20\n",
        "\n",
        "# P_S_prime = 3\n",
        "\n",
        "# p_cars_rented_out = np.zeros(shape=20)\n",
        "# p_cars_arrived = np.zeros(shape=20)\n",
        "\n",
        "\n",
        "p_cars_rented_out[cars_start] = poisson.sf(mu=3, k = cars_start-1)\n",
        "weighted_state_value_new_state = 0\n",
        "\n",
        "\n",
        "    \n",
        "  \n",
        "for loc, rental_req_lambda, car_returns_lambda in zip([0,1], [3,4], [3,2]):\n",
        "state_value = abs(action) * -2\n",
        "\n",
        "for cars_rented_out in np.arange(cars_start+1):\n",
        "  p_cars_rented_out = trunc_poisson(mu=3, k=cars_rented_out, k_max=cars_start)\n",
        "\n",
        "  cars_after_renting_out = cars_start - cars_rented_out\n",
        "  max_new_cars = max_cars - cars_after_renting_out\n",
        "\n",
        "  for cars_arrived in np.arange(max_new_cars):\n",
        "\n",
        "    p_cars_arrived = trunc_poisson(mu=3, k=cars_arrived, k_max=max_new_cars)\n",
        "\n",
        "    # p_cars_arrived = poisson.pmf(mu=3, k=cars_arrived)\n",
        "    # if (cars_arrived == max_new_cars):\n",
        "    #   p_cars_arrived = poisson.sf(mu=3, k = cars_start-1)\n",
        "\n",
        "      cars_end = cars_after_renting_out + cars_arrived\n",
        "\n",
        "      p_state_transition = p_cars_rented_out * p_cars_arrived\n",
        "      \n",
        "      state_value += p_state_transition * (cars_rented_out * 10 + V[]\n",
        "      \n",
        "\n",
        "p_cars_rented_out\n",
        "\n",
        "\n",
        "\n"
      ],
      "metadata": {
        "colab": {
          "base_uri": "https://localhost:8080/"
        },
        "id": "_zdxg6BmwEDY",
        "outputId": "6f04b65b-e48b-48f5-d292-316e70a9eb56"
      },
      "execution_count": 26,
      "outputs": [
        {
          "output_type": "execute_result",
          "data": {
            "text/plain": [
              "array([0.04978707, 0.14936121, 0.22404181, 0.22404181, 0.35276811,\n",
              "       0.        , 0.        , 0.        , 0.        , 0.        ,\n",
              "       0.        , 0.        , 0.        , 0.        , 0.        ,\n",
              "       0.        , 0.        , 0.        , 0.        , 0.        ])"
            ]
          },
          "metadata": {},
          "execution_count": 26
        }
      ]
    },
    {
      "cell_type": "code",
      "source": [
        "p_state_1loc_after_rental = 5 + trunc_poisson(mu, k, k_max):  \n"
      ],
      "metadata": {
        "colab": {
          "base_uri": "https://localhost:8080/"
        },
        "id": "XiN3tICLEsov",
        "outputId": "e07149c5-702f-4b08-b127-b1b2f543855e"
      },
      "execution_count": 38,
      "outputs": [
        {
          "output_type": "execute_result",
          "data": {
            "text/plain": [
              "8"
            ]
          },
          "metadata": {},
          "execution_count": 38
        }
      ]
    },
    {
      "cell_type": "code",
      "source": [
        "\n",
        "\n",
        "state_rental_req_lambda, car_returns_lambda, cars_start = 4, 4, 3\n",
        "get_p_s_prime_1loc(4, 3, 3)\n",
        "# trunc_poisson(mu=state_rental_req_lambda, k=cars_rented_out, k_max=cars_start)\n",
        "\n",
        "\n",
        "\n",
        "\n",
        "\n",
        "\n"
      ],
      "metadata": {
        "colab": {
          "base_uri": "https://localhost:8080/"
        },
        "id": "_7NoQ7FqPYHX",
        "outputId": "2cdf3f7a-be10-49ec-833e-40318c3c504e"
      },
      "execution_count": 63,
      "outputs": [
        {
          "output_type": "execute_result",
          "data": {
            "text/plain": [
              "array([1.75632901e-02, 6.38442550e-02, 1.23652345e-01, 1.70128948e-01,\n",
              "       1.84453089e-01, 1.64305854e-01, 1.22634048e-01, 7.77544078e-02,\n",
              "       4.24161839e-02, 2.01566182e-02, 8.44243938e-03, 3.15013070e-03,\n",
              "       1.05719694e-03, 3.21829750e-04, 8.95314730e-05, 2.29114072e-05,\n",
              "       5.42455129e-06, 1.19434804e-06, 2.45653449e-07, 4.73910054e-08,\n",
              "       1.03656463e-08])"
            ]
          },
          "metadata": {},
          "execution_count": 63
        }
      ]
    },
    {
      "cell_type": "code",
      "source": [
        "def get_s_morning_start(s, action):\n",
        "  return(tuple(np.clip(np.array(s) + np.array([-action, action]), a_min=0, a_max=20).astype('int'))\n",
        ")"
      ],
      "metadata": {
        "id": "9YkscC6xfqVX"
      },
      "execution_count": 138,
      "outputs": []
    },
    {
      "cell_type": "code",
      "source": [
        "%%time\n",
        "\n",
        "# 1 init\n",
        "V = np.random.uniform(size=(21,21))\n",
        "A = np.arange(-5,6)\n",
        "policy=np.zeros_like(V)\n",
        "print(f\"{V[:5,:5]=} \\n\\n {policy[:5,:5]=}\")\n",
        "\n",
        "\n",
        "transition_R = np.zeros_like(V)\n",
        "\n",
        "rental_request_lambdas=(3,4)\n",
        "car_return_lambdas = (3,2)\n",
        "gamma = 0.9\n",
        "\n",
        "# 2 \n",
        "delta_theshold = 3\n",
        "\n",
        "delta = delta_theshold + 1\n",
        "\n",
        "# while delta >= delta_theshold:\n",
        "for _ in range(5):\n",
        "  delta = 0\n",
        "  # for s in [(19,1)]:\n",
        "  for s in np.random.permutation(list(np.ndindex(V.shape))):\n",
        "    s = tuple(s)\n",
        "    v = V[s]\n",
        "    # expected_R = get_expected_R(s, rental_request_lambdas)\n",
        "    action = policy[s]\n",
        "    s_after_action = get_s_morning_start(s, action)\n",
        "    actual_action = s_after_action[1] - s[1]\n",
        "    action_R = - 2 * abs(actual_action)\n",
        "\n",
        "    # s_after_action = tuple(np.clip(np.array(s) + np.array([-action, action]), a_min=0, a_max=20).astype('int'))\n",
        "    # print(f\"{s_after_action=}\")\n",
        "\n",
        "    expected_R = get_expected_R(s_after_action, rental_request_lambdas)\n",
        "    transition_R[s_after_action] = expected_R\n",
        "    P_new_state = get_prob_per_new_state(s_after_action, \n",
        "                                         rental_request_lambdas, \n",
        "                                         car_return_lambdas)\n",
        "    # print(f\"sanity: {P_new_state.sum()=}\")\n",
        "    expected_V_new_state = (V*P_new_state).sum()\n",
        "    V[s] =  expected_R + action_R + gamma * expected_V_new_state\n",
        "\n",
        "    delta = max(delta, abs(v-V[s]))\n",
        "\n",
        "  print(f\"sanity: {delta=}\")\n",
        "\n",
        "\n",
        "print(f\"{V[:8,:8]=} \\n\\n {policy[:8,:8]=}\")\n",
        "\n",
        "# 3\n",
        "# while delta >= delta_theshold:\n",
        "for _ in range(20):\n",
        "  changes = 0\n",
        "  policy_stable = True\n",
        "  for s in np.random.permutation(list(np.ndindex(V.shape))):\n",
        "    s = tuple(s)\n",
        "    old_action = policy[s]\n",
        "    s_after_action = get_s_morning_start(s, action)\n",
        "    old_actual_action = s_after_action[1] - s[1]\n",
        "    old_action_R = - 2 * abs(old_actual_action)\n",
        "    best_action = old_actual_action\n",
        "    best_V = V[s]\n",
        "    for alt_action in A:\n",
        "      alt_s_in_morning = get_s_morning_start(s, alt_action)\n",
        "      alt_actual_action = alt_s_in_morning[1] - s[1]\n",
        "      alt_V = -2 * abs(alt_actual_action) + transition_R[alt_s_in_morning] + gamma*V[alt_s_in_morning]\n",
        "      if alt_V > best_V:\n",
        "        policy_stable = False\n",
        "        best_V = alt_V\n",
        "        policy[s] = alt_actual_action\n",
        "        changes += 1\n",
        "\n",
        "  print(f\"sanity: {policy_stable}, {changes=}\")\n",
        "\n",
        "      \n",
        "\n",
        "\n",
        "print(f\"{V[:8,:8]=} \\n\\n {policy[:8,:8]=}\")\n"
      ],
      "metadata": {
        "id": "CuyOQe39aMIG",
        "colab": {
          "base_uri": "https://localhost:8080/"
        },
        "outputId": "c3f5950b-2b77-4d24-887d-99ba54aaaa62"
      },
      "execution_count": 141,
      "outputs": [
        {
          "output_type": "stream",
          "name": "stdout",
          "text": [
            "V[:5,:5]=array([[0.35488431, 0.82719091, 0.20921254, 0.09102189, 0.75844286],\n",
            "       [0.97468655, 0.72680534, 0.28861595, 0.4126434 , 0.49832394],\n",
            "       [0.66415944, 0.67064802, 0.65662113, 0.10214224, 0.25500784],\n",
            "       [0.25875186, 0.88047488, 0.29387903, 0.45034609, 0.76394922],\n",
            "       [0.16448336, 0.52390805, 0.08890873, 0.45168538, 0.97907341]]) \n",
            "\n",
            " policy[:5,:5]=array([[0., 0., 0., 0., 0.],\n",
            "       [0., 0., 0., 0., 0.],\n",
            "       [0., 0., 0., 0., 0.],\n",
            "       [0., 0., 0., 0., 0.],\n",
            "       [0., 0., 0., 0., 0.]])\n",
            "sanity: delta=142.6354850682004\n",
            "sanity: delta=149.77235648186473\n",
            "sanity: delta=120.1169997654564\n",
            "sanity: delta=101.10544806247881\n",
            "sanity: delta=86.43478107610349\n",
            "V[:8,:8]=array([[233.75406849, 250.61460492, 269.51775039, 274.84885821,\n",
            "        284.28677113, 272.23308077, 297.55671154, 298.40002648],\n",
            "       [247.386355  , 251.76497295, 245.11809065, 255.43769167,\n",
            "        271.78942798, 271.61844774, 296.38494325, 283.31564791],\n",
            "       [260.3818188 , 275.12050106, 265.85800397, 276.07214978,\n",
            "        277.82839185, 278.80879755, 297.96651592, 295.63311037],\n",
            "       [247.1701083 , 271.7607697 , 297.31820307, 271.40327111,\n",
            "        280.98991844, 306.93130831, 297.11448282, 313.20141045],\n",
            "       [251.42885939, 259.71203806, 290.63168095, 285.05452589,\n",
            "        287.08137572, 317.33274533, 326.6562669 , 309.44699036],\n",
            "       [271.02461285, 299.38242661, 284.40318059, 297.46055016,\n",
            "        294.88259987, 297.97059309, 303.08299064, 318.37571934],\n",
            "       [260.19761313, 288.32382641, 304.35076794, 302.10009355,\n",
            "        321.54223293, 329.2095479 , 324.35636498, 335.38181586],\n",
            "       [272.41756409, 297.05175252, 284.34669637, 294.13783376,\n",
            "        304.01919784, 320.42518324, 331.82917466, 319.0765912 ]]) \n",
            "\n",
            " policy[:8,:8]=array([[0., 0., 0., 0., 0., 0., 0., 0.],\n",
            "       [0., 0., 0., 0., 0., 0., 0., 0.],\n",
            "       [0., 0., 0., 0., 0., 0., 0., 0.],\n",
            "       [0., 0., 0., 0., 0., 0., 0., 0.],\n",
            "       [0., 0., 0., 0., 0., 0., 0., 0.],\n",
            "       [0., 0., 0., 0., 0., 0., 0., 0.],\n",
            "       [0., 0., 0., 0., 0., 0., 0., 0.],\n",
            "       [0., 0., 0., 0., 0., 0., 0., 0.]])\n",
            "sanity: False, changes=1376\n",
            "sanity: False, changes=1376\n",
            "sanity: False, changes=1376\n",
            "sanity: False, changes=1376\n",
            "sanity: False, changes=1376\n",
            "sanity: False, changes=1376\n",
            "sanity: False, changes=1376\n",
            "sanity: False, changes=1376\n",
            "sanity: False, changes=1376\n",
            "sanity: False, changes=1376\n",
            "sanity: False, changes=1376\n",
            "sanity: False, changes=1376\n",
            "sanity: False, changes=1376\n",
            "sanity: False, changes=1376\n",
            "sanity: False, changes=1376\n",
            "sanity: False, changes=1376\n",
            "sanity: False, changes=1376\n",
            "sanity: False, changes=1376\n",
            "sanity: False, changes=1376\n",
            "sanity: False, changes=1376\n",
            "V[:8,:8]=array([[233.75406849, 250.61460492, 269.51775039, 274.84885821,\n",
            "        284.28677113, 272.23308077, 297.55671154, 298.40002648],\n",
            "       [247.386355  , 251.76497295, 245.11809065, 255.43769167,\n",
            "        271.78942798, 271.61844774, 296.38494325, 283.31564791],\n",
            "       [260.3818188 , 275.12050106, 265.85800397, 276.07214978,\n",
            "        277.82839185, 278.80879755, 297.96651592, 295.63311037],\n",
            "       [247.1701083 , 271.7607697 , 297.31820307, 271.40327111,\n",
            "        280.98991844, 306.93130831, 297.11448282, 313.20141045],\n",
            "       [251.42885939, 259.71203806, 290.63168095, 285.05452589,\n",
            "        287.08137572, 317.33274533, 326.6562669 , 309.44699036],\n",
            "       [271.02461285, 299.38242661, 284.40318059, 297.46055016,\n",
            "        294.88259987, 297.97059309, 303.08299064, 318.37571934],\n",
            "       [260.19761313, 288.32382641, 304.35076794, 302.10009355,\n",
            "        321.54223293, 329.2095479 , 324.35636498, 335.38181586],\n",
            "       [272.41756409, 297.05175252, 284.34669637, 294.13783376,\n",
            "        304.01919784, 320.42518324, 331.82917466, 319.0765912 ]]) \n",
            "\n",
            " policy[:8,:8]=array([[ 4.,  5.,  4.,  3.,  2., -3., -4., -1.],\n",
            "       [ 4.,  5.,  4.,  3., -2., -3.,  0., -2.],\n",
            "       [ 0.,  5.,  4., -1., -2.,  1., -1., -2.],\n",
            "       [ 0., -1.,  0., -1., -1.,  0., -1., -1.],\n",
            "       [ 0.,  1.,  0.,  0.,  1.,  0.,  0., -2.],\n",
            "       [ 2.,  0.,  1.,  2.,  1.,  1., -1., -3.],\n",
            "       [ 1.,  2.,  3.,  2.,  2.,  0., -2.,  0.],\n",
            "       [ 0.,  4.,  3.,  3.,  1., -1.,  1.,  2.]])\n",
            "CPU times: user 1min 2s, sys: 714 ms, total: 1min 3s\n",
            "Wall time: 1min 2s\n"
          ]
        }
      ]
    },
    {
      "cell_type": "code",
      "source": [
        "a = np.ndindex(V.shape)\n",
        "a"
      ],
      "metadata": {
        "colab": {
          "base_uri": "https://localhost:8080/"
        },
        "id": "6_dPqT8QaOoh",
        "outputId": "002e524b-a02e-48fc-e3c9-b4bac32b89f2"
      },
      "execution_count": 108,
      "outputs": [
        {
          "output_type": "execute_result",
          "data": {
            "text/plain": [
              "<numpy.ndindex at 0x7f646fab5d60>"
            ]
          },
          "metadata": {},
          "execution_count": 108
        }
      ]
    },
    {
      "cell_type": "code",
      "source": [],
      "metadata": {
        "id": "Nj2fCNO-bWqk"
      },
      "execution_count": null,
      "outputs": []
    }
  ]
}