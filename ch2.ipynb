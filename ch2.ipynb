{
  "nbformat": 4,
  "nbformat_minor": 0,
  "metadata": {
    "colab": {
      "provenance": [],
      "authorship_tag": "ABX9TyPFRDlt5sPRsSo4xwa5y78S",
      "include_colab_link": true
    },
    "kernelspec": {
      "name": "python3",
      "display_name": "Python 3"
    },
    "language_info": {
      "name": "python"
    }
  },
  "cells": [
    {
      "cell_type": "markdown",
      "metadata": {
        "id": "view-in-github",
        "colab_type": "text"
      },
      "source": [
        "<a href=\"https://colab.research.google.com/github/keesterbrugge/rl_intro_sutton/blob/main/ch2.ipynb\" target=\"_parent\"><img src=\"https://colab.research.google.com/assets/colab-badge.svg\" alt=\"Open In Colab\"/></a>"
      ]
    },
    {
      "cell_type": "code",
      "execution_count": null,
      "metadata": {
        "id": "IdKOVHwOJc4j"
      },
      "outputs": [],
      "source": []
    },
    {
      "cell_type": "markdown",
      "source": [
        "2.5"
      ],
      "metadata": {
        "id": "WcAhGf5sJfhD"
      }
    },
    {
      "cell_type": "code",
      "source": [
        "# 2.5 \n",
        "import numpy as np\n",
        "\n",
        "n_iterations = 10\n",
        "n_actions = 10\n",
        "\n",
        "Q = np.zeros(n_actions)\n",
        "N = np.zeros(n_actions)\n",
        "\n",
        "for _ in range(n_iterations):\n",
        "  action = np.argmax(Q)\n",
        "  print(action)"
      ],
      "metadata": {
        "colab": {
          "base_uri": "https://localhost:8080/"
        },
        "id": "FrtjVa0zJnZC",
        "outputId": "d8bf901e-b61f-4f95-baa1-a80f1de2f8fb"
      },
      "execution_count": 1,
      "outputs": [
        {
          "output_type": "stream",
          "name": "stdout",
          "text": [
            "0\n",
            "0\n",
            "0\n",
            "0\n",
            "0\n",
            "0\n",
            "0\n",
            "0\n",
            "0\n",
            "0\n"
          ]
        }
      ]
    },
    {
      "cell_type": "code",
      "source": [],
      "metadata": {
        "id": "7jRyuIZbMTA8"
      },
      "execution_count": null,
      "outputs": []
    }
  ]
}